{
 "cells": [
  {
   "cell_type": "code",
   "execution_count": 1,
   "id": "9dfa2c56-1c9f-407f-a0db-3c85d9333fd8",
   "metadata": {},
   "outputs": [],
   "source": [
    "import warnings\n",
    "warnings.filterwarnings(\"ignore\")"
   ]
  },
  {
   "cell_type": "code",
   "execution_count": 2,
   "id": "432b9a23-f1df-448e-8ac1-1d90dce7b954",
   "metadata": {},
   "outputs": [],
   "source": [
    "import os\n",
    "from glob import glob\n",
    "from tqdm.notebook import tqdm\n",
    "\n",
    "import random\n",
    "import matplotlib.pyplot as plt\n",
    "import numpy as np\n",
    "import librosa\n",
    "import pandas as pd\n",
    "from sklearn.utils import shuffle\n",
    "from sklearn.metrics import top_k_accuracy_score, accuracy_score\n",
    "\n",
    "import re\n",
    "import hazm\n",
    "import unicodedata\n",
    "import Levenshtein\n",
    "\n",
    "from einops import rearrange, repeat\n",
    "from audiomentations import AddBackgroundNoise, AddBackgroundNoise, ApplyImpulseResponse, PitchShift, TimeStretch\n",
    "\n",
    "import torch\n",
    "from torch.nn import functional as F\n",
    "from torch.utils.data import Dataset, DataLoader\n",
    "from torch.utils.data.sampler import Sampler\n",
    "from torchaudio import transforms as T\n",
    "from torch.optim import AdamW, Adam\n",
    "from transformers import get_scheduler\n",
    "from torch.utils.tensorboard import SummaryWriter\n",
    "\n",
    "\n",
    "from resnet12 import resnet12, wide_resnet12"
   ]
  },
  {
   "cell_type": "code",
   "execution_count": null,
   "id": "c2488c32-d9f7-48c1-b5c2-5f0e651eb896",
   "metadata": {},
   "outputs": [],
   "source": []
  },
  {
   "cell_type": "code",
   "execution_count": null,
   "id": "e2328d89-2a4a-41e8-baba-77ae479c02de",
   "metadata": {},
   "outputs": [],
   "source": []
  },
  {
   "cell_type": "code",
   "execution_count": 3,
   "id": "85999ded-afa2-404e-b0d2-2bbd5721248c",
   "metadata": {},
   "outputs": [],
   "source": [
    "import json\n",
    "\n",
    "with open('FILENAME_DICT.json', 'r') as fp:\n",
    "    TRAIN_FILENAME_DICT = json.load(fp)"
   ]
  },
  {
   "cell_type": "code",
   "execution_count": null,
   "id": "ac3d2f0a-f834-4022-99e8-a2091017585c",
   "metadata": {},
   "outputs": [],
   "source": []
  },
  {
   "cell_type": "code",
   "execution_count": 4,
   "id": "0e418674-d637-4546-9e6d-69ddd4ce2175",
   "metadata": {},
   "outputs": [],
   "source": [
    "buffer = {}\n",
    "for folder in TRAIN_FILENAME_DICT[\"fa\"][\"folders\"]:\n",
    "    filenames = glob(f\"./Processed_Keywords/fa/{folder}/*.wav\")\n",
    "\n",
    "    if len(filenames) > 50:\n",
    "        buffer[folder] = filenames"
   ]
  },
  {
   "cell_type": "code",
   "execution_count": 5,
   "id": "70e78382-5c5b-49a8-9558-004e23a25f7e",
   "metadata": {},
   "outputs": [],
   "source": [
    "#del TRAIN_FILENAME_DICT[\"fa\"]"
   ]
  },
  {
   "cell_type": "code",
   "execution_count": 6,
   "id": "4640f760-0809-4b82-a9dc-169898991f0b",
   "metadata": {},
   "outputs": [],
   "source": [
    "VALID_FILENAME_DICT = {}\n",
    "VALID_FILENAME_DICT[\"fa\"] = {\n",
    "    \"filename_dict\" : buffer,\n",
    "    \"folders\" : list(buffer.keys()),\n",
    "    \"dataset_length\" : sum([len(buffer[folder]) for folder in buffer])\n",
    "}"
   ]
  },
  {
   "cell_type": "code",
   "execution_count": null,
   "id": "cb86cce5-a4c5-449e-9ef0-f20fd7cef840",
   "metadata": {},
   "outputs": [],
   "source": []
  },
  {
   "cell_type": "code",
   "execution_count": null,
   "id": "c1c434e4-3b45-4fac-a7df-6f09c12eaac9",
   "metadata": {},
   "outputs": [],
   "source": []
  },
  {
   "cell_type": "code",
   "execution_count": null,
   "id": "f5b457fe-fac4-48cf-9e7c-8132da62a751",
   "metadata": {},
   "outputs": [],
   "source": []
  },
  {
   "cell_type": "code",
   "execution_count": 7,
   "id": "08b1d9da-4938-42a0-b190-7e35141ed51a",
   "metadata": {},
   "outputs": [],
   "source": [
    "N_WAY = 10\n",
    "N_SUPPORT = 10\n",
    "N_UNKNOWN = 10\n",
    "N_QUERY = 25\n",
    "\n",
    "N_WAY_V = 1\n",
    "N_SUPPORT_V = 10\n",
    "N_UNKNOWN_V = 10\n",
    "N_QUERY_V = 30\n",
    "\n",
    "GAMMA = 3\n",
    "LAMBDA = 0.1\n",
    "\n",
    "\n",
    "WAV_LENGTH = 0.7\n",
    "SHIFT_LENGTH = 0.01\n",
    "N_MFCC = int(WAV_LENGTH / SHIFT_LENGTH)"
   ]
  },
  {
   "cell_type": "code",
   "execution_count": 8,
   "id": "bd3105b9-e26f-46cc-ada6-ce74de16e8fb",
   "metadata": {},
   "outputs": [],
   "source": [
    "class CustomBatchSampler(Sampler):\n",
    "    def __init__(self, filename_dict, n_way=10, n_support=5, n_unkown=10, n_query=5, min_folder=20):\n",
    "        self.filename_dict = filename_dict\n",
    "        self.n_way = n_way\n",
    "        self.n_support = n_support\n",
    "        self.n_unkown = n_unkown\n",
    "        self.n_query = n_query\n",
    "        self.min_folder = min_folder\n",
    "\n",
    "        self.filter_lang()\n",
    "        self.LANG = list(self.filename_dict.keys())\n",
    "        \n",
    "        self.len_dataset = len(self)\n",
    "        self.calculate_probability()\n",
    "        \n",
    "    def __iter__(self):\n",
    "        for _ in range(self.len_dataset):\n",
    "            \n",
    "            random_lang = np.random.choice(self.LANG, size=1, p=self.LANG_PROBS)[0]\n",
    "            random_cluster = np.random.choice(self.filename_dict[random_lang][\"folders\"],\n",
    "                                              size=self.n_way + self.n_unkown,\n",
    "                                              replace=False,\n",
    "                                              p=self.filename_dict[random_lang][\"probs\"])\n",
    "\n",
    "            batch_support_filenames, batch_known_filenames, batch_unknown_filenames = [], [], []\n",
    "            for cluster in random_cluster[:self.n_way]:\n",
    "                known_filenames = np.random.choice(self.filename_dict[random_lang][\"filename_dict\"][cluster],\n",
    "                                                   size=self.n_support + self.n_query,\n",
    "                                                   replace=False)\n",
    "                \n",
    "                batch_support_filenames += known_filenames.tolist()[:self.n_support]\n",
    "                batch_known_filenames += known_filenames.tolist()[self.n_support:]\n",
    "\n",
    "\n",
    "            for cluster in random_cluster[self.n_way:]:\n",
    "                unknown_filenames = np.random.choice(self.filename_dict[random_lang][\"filename_dict\"][cluster],\n",
    "                                                     size=self.n_query,\n",
    "                                                     replace=False)\n",
    "                \n",
    "                batch_unknown_filenames += unknown_filenames.tolist()\n",
    "\n",
    "            batch_filenames = batch_support_filenames + batch_known_filenames + batch_unknown_filenames\n",
    "                \n",
    "            yield batch_filenames\n",
    "            \n",
    "\n",
    "    def __len__(self):\n",
    "        n_data = sum([self.filename_dict[lang][\"dataset_length\"] for lang in self.LANG])        \n",
    "        return int(n_data // (self.n_way * self.n_support + (self.n_way + self.n_unkown) * self.n_query))\n",
    "\n",
    "\n",
    "    def calculate_probability(self, temp=1/2):\n",
    "        for lang in self.LANG:\n",
    "            folders = self.filename_dict[lang][\"folders\"]\n",
    "            \n",
    "            prob = []\n",
    "            for folder in self.filename_dict[lang][\"filename_dict\"]:\n",
    "                prob.append(len(self.filename_dict[lang][\"filename_dict\"][folder]))\n",
    "                \n",
    "            prob = np.array(prob)\n",
    "            prob = prob / prob.sum()\n",
    "            prob = prob ** temp\n",
    "            prob = prob / prob.sum()\n",
    "            prob = prob.tolist()\n",
    "\n",
    "            self.filename_dict[lang][\"probs\"] = prob\n",
    "\n",
    "        \n",
    "        lang_prob = []\n",
    "        for lang in self.LANG:\n",
    "            lang_prob.append(self.filename_dict[lang][\"dataset_length\"])\n",
    "        \n",
    "        lang_prob = np.array(lang_prob)\n",
    "        lang_prob = lang_prob / lang_prob.sum()\n",
    "        lang_prob = lang_prob ** temp\n",
    "        lang_prob = lang_prob / lang_prob.sum()\n",
    "        lang_prob = lang_prob.tolist()\n",
    "\n",
    "        self.LANG_PROBS = lang_prob\n",
    "    \n",
    "\n",
    "    def filter_lang(self):\n",
    "        delete_lang = []\n",
    "        for lang in self.filename_dict.keys():\n",
    "            if len(self.filename_dict[lang][\"folders\"]) < self.min_folder:\n",
    "                delete_lang.append(lang)\n",
    "                \n",
    "        for lang in delete_lang:\n",
    "            del self.filename_dict[lang]"
   ]
  },
  {
   "cell_type": "code",
   "execution_count": 9,
   "id": "20345b06-c0c6-46ff-b5d4-c9c71a1272d7",
   "metadata": {},
   "outputs": [],
   "source": [
    "class ValidBatchSampler(Sampler):\n",
    "    def __init__(self, filename_dict, n_way=1, n_support=5, n_unkown=10, n_query=5, min_folder=20):\n",
    "        self.filename_dict = filename_dict\n",
    "        self.n_way = n_way\n",
    "        self.n_support = n_support\n",
    "        self.n_unkown = n_unkown\n",
    "        self.n_query = n_query\n",
    "        self.min_folder = min_folder\n",
    "\n",
    "        self.filter_lang()\n",
    "        self.LANG = list(self.filename_dict.keys())\n",
    "        \n",
    "        self.len_dataset = len(self)\n",
    "        \n",
    "    def __iter__(self):\n",
    "        \n",
    "        for lang in self.LANG:\n",
    "            folders = self.filename_dict[lang][\"folders\"]\n",
    "            for folder in folders:\n",
    "                folders_ = folders.copy()\n",
    "                folders_.remove(folder)\n",
    "\n",
    "                batch_known_filenames = np.random.choice(self.filename_dict[lang][\"filename_dict\"][folder],\n",
    "                                                         size=self.n_support + self.n_query,\n",
    "                                                         replace=False).tolist()\n",
    "\n",
    "                \n",
    "                random_clusters = np.random.choice(folders_,\n",
    "                                                   size=self.n_unkown,\n",
    "                                                   replace=False)\n",
    "                \n",
    "                batch_unknown_filenames = []\n",
    "                for cluster in random_clusters:\n",
    "                    unknown_filenames = np.random.choice(self.filename_dict[lang][\"filename_dict\"][cluster],\n",
    "                                                         size=self.n_query,\n",
    "                                                         replace=False)\n",
    "                    \n",
    "                    batch_unknown_filenames += unknown_filenames.tolist()\n",
    "    \n",
    "                batch_filenames = batch_known_filenames + batch_unknown_filenames\n",
    "                yield batch_filenames\n",
    "            \n",
    "\n",
    "    def __len__(self):\n",
    "        return sum([len(self.filename_dict[lang][\"folders\"]) for lang in self.LANG])\n",
    "    \n",
    "\n",
    "    def filter_lang(self):\n",
    "        delete_lang = []\n",
    "        for lang in self.filename_dict.keys():\n",
    "            if len(self.filename_dict[lang][\"folders\"]) < self.min_folder:\n",
    "                delete_lang.append(lang)\n",
    "                \n",
    "        for lang in delete_lang:\n",
    "            del self.filename_dict[lang]"
   ]
  },
  {
   "cell_type": "code",
   "execution_count": 10,
   "id": "3ff9335e-2910-4f39-a330-95c02c13c008",
   "metadata": {},
   "outputs": [],
   "source": [
    "class GSCBatchSampler(Sampler):\n",
    "    def __init__(self, valid_filenamedict, test_filenamedict, n_support=5, n_unkown=10, n_query=5, n_repeat=10):\n",
    "        self.valid_filenamedict = valid_filenamedict\n",
    "        self.test_filenamedict = test_filenamedict\n",
    "        self.n_support = n_support\n",
    "        self.n_unkown = n_unkown\n",
    "        self.n_query = n_query\n",
    "        self.n_repeat = n_repeat\n",
    "        \n",
    "        self.len_dataset = len(self)\n",
    "        \n",
    "\n",
    "    def __iter__(self):\n",
    "        for _ in range(self.n_repeat):\n",
    "            for folder in self.test_filenamedict:\n",
    "                folders = list(self.test_filenamedict.keys())\n",
    "                folders.remove(folder)\n",
    "            \n",
    "                batch_support_filenames = np.random.choice(self.valid_filenamedict[folder],\n",
    "                                                           size=self.n_support,\n",
    "                                                           replace=False).tolist()\n",
    "            \n",
    "                \n",
    "                target_folder_filenames = self.test_filenamedict[folder].copy()\n",
    "                n_query_batch = len(target_folder_filenames) // self.n_query\n",
    "                \n",
    "                for idx in range(n_query_batch):\n",
    "                    batch_known_filenames = target_folder_filenames[idx*self.n_query:(idx+1)*self.n_query]\n",
    "            \n",
    "                    random_clusters = np.random.choice(folders,\n",
    "                                                       size=self.n_unkown,\n",
    "                                                       replace=False)\n",
    "            \n",
    "                    batch_unknown_filenames = []\n",
    "                    for cluster in random_clusters:\n",
    "                        unknown_filenames = np.random.choice(self.test_filenamedict[cluster],\n",
    "                                                             size=self.n_query,\n",
    "                                                             replace=False)\n",
    "                        \n",
    "                        batch_unknown_filenames += unknown_filenames.tolist()\n",
    "            \n",
    "                    batch_filenames = batch_support_filenames + batch_known_filenames + batch_unknown_filenames\n",
    "            \n",
    "                    yield batch_filenames\n",
    "            \n",
    "\n",
    "    def __len__(self):\n",
    "        n_batch = 0\n",
    "        for folder in self.test_filenamedict:\n",
    "            n_batch += len(self.test_filenamedict[folder]) // self.n_query\n",
    "        return n_batch * self.n_repeat"
   ]
  },
  {
   "cell_type": "code",
   "execution_count": null,
   "id": "620a1dd7-0a50-418c-8c43-aada6d840af3",
   "metadata": {},
   "outputs": [],
   "source": []
  },
  {
   "cell_type": "code",
   "execution_count": 11,
   "id": "f5d44004-3c85-4903-80ee-4c40bfa8a283",
   "metadata": {},
   "outputs": [],
   "source": [
    "train_sampler = CustomBatchSampler(TRAIN_FILENAME_DICT,\n",
    "                                   n_way=N_WAY,\n",
    "                                   n_support=N_SUPPORT,\n",
    "                                   n_unkown=N_UNKNOWN,\n",
    "                                   n_query=N_QUERY)\n",
    "\n",
    "valid_sampler = ValidBatchSampler(VALID_FILENAME_DICT,\n",
    "                                  n_way=N_WAY_V,\n",
    "                                  n_support=N_SUPPORT_V,\n",
    "                                  n_unkown=N_UNKNOWN_V,\n",
    "                                  n_query=N_QUERY_V)"
   ]
  },
  {
   "cell_type": "code",
   "execution_count": 12,
   "id": "4ef90741-dce1-4464-8f81-34a7847c581c",
   "metadata": {},
   "outputs": [
    {
     "data": {
      "application/vnd.jupyter.widget-view+json": {
       "model_id": "5ae9c5ec9dad476d968e4f7aedd99562",
       "version_major": 2,
       "version_minor": 0
      },
      "text/plain": [
       "  0%|          | 0/12461 [00:00<?, ?it/s]"
      ]
     },
     "metadata": {},
     "output_type": "display_data"
    },
    {
     "data": {
      "application/vnd.jupyter.widget-view+json": {
       "model_id": "887cdb48c8514acc9c7218ed65e71940",
       "version_major": 2,
       "version_minor": 0
      },
      "text/plain": [
       "  0%|          | 0/842 [00:00<?, ?it/s]"
      ]
     },
     "metadata": {},
     "output_type": "display_data"
    }
   ],
   "source": [
    "for a in tqdm(train_sampler):\n",
    "    break\n",
    "\n",
    "for a in tqdm(valid_sampler):\n",
    "    break"
   ]
  },
  {
   "cell_type": "code",
   "execution_count": null,
   "id": "b19d161c-a53d-4688-8334-1ef6f4da4bd8",
   "metadata": {},
   "outputs": [],
   "source": []
  },
  {
   "cell_type": "code",
   "execution_count": 13,
   "id": "22711d64-1849-41ed-a13c-c6fe9317b02e",
   "metadata": {},
   "outputs": [],
   "source": [
    "class RemovePad(object):\n",
    "    def __init__(self, thershold=0.05, fs=16_000, segment_move=0.025):\n",
    "        self.thershold = thershold\n",
    "        segment_move = int(fs * segment_move)\n",
    "        self.window = np.ones(segment_move) / int(segment_move/2)\n",
    "\n",
    "    def __call__(self, wav):\n",
    "        moving_average_wav = np.convolve(np.abs(wav), self.window, mode='same')\n",
    "        cutoff = np.where(moving_average_wav > self.thershold)[0]\n",
    "\n",
    "        if len(cutoff) < 2:\n",
    "            return wav\n",
    "\n",
    "        return wav[cutoff[0]:cutoff[-1]]\n",
    "\n",
    "\n",
    "class Normalize(object):\n",
    "    def __init__(self):\n",
    "        self.EPS = np.finfo(float).eps\n",
    "        \n",
    "    def __call__(self, wav):\n",
    "        samples_99_percentile = np.percentile(np.abs(wav), 99.9)\n",
    "        normalized_samples = wav / (samples_99_percentile + self.EPS)\n",
    "        normalized_samples = np.clip(normalized_samples, -1, 1)\n",
    "        return normalized_samples\n",
    "\n",
    "\n",
    "class PadTrimWav(object):\n",
    "    def __init__(self, segment_length=1.0, fs=16_000):\n",
    "        self.segment_length = int(fs * segment_length)\n",
    "\n",
    "    def __call__(self, wav):\n",
    "        len_wav = len(wav)\n",
    "\n",
    "        zeros = np.zeros(self.segment_length, dtype=np.float32)\n",
    "        if len_wav < self.segment_length:\n",
    "            start_point = (self.segment_length - len_wav) // 2\n",
    "            zeros[start_point:start_point+len_wav] = wav\n",
    "        else:\n",
    "            start_point = (len_wav -  self.segment_length) // 2\n",
    "            zeros = wav[start_point:start_point+self.segment_length]\n",
    "\n",
    "        return zeros\n",
    "\n",
    "\n",
    "class RandomPadTrimMFCC(object):\n",
    "    def __init__(self, segment_shape=(40,100)):\n",
    "        self.segment_shape = segment_shape\n",
    "\n",
    "    def __call__(self, mfcc):\n",
    "        mfcc = mfcc.numpy()\n",
    "        mfcc_shape = mfcc.shape\n",
    "\n",
    "        zeros = np.zeros(self.segment_shape, dtype=np.float32)\n",
    "        if mfcc_shape[1] <= self.segment_shape[1]:\n",
    "            random_point = np.random.randint(0, self.segment_shape[1] - mfcc_shape[1] + 1)\n",
    "            zeros[:, random_point:random_point+mfcc_shape[1]] = mfcc\n",
    "        else:\n",
    "            random_point = np.random.randint(0, mfcc_shape[1] - self.segment_shape[1] + 1)\n",
    "            zeros = mfcc[:, random_point:random_point+self.segment_shape[1]]\n",
    "\n",
    "        return zeros\n",
    "\n",
    "\n",
    "class PadTrimMFCC(object):\n",
    "    def __init__(self, segment_shape=(40,100)):\n",
    "        self.segment_shape = segment_shape\n",
    "\n",
    "    def __call__(self, mfcc):\n",
    "        mfcc = mfcc.numpy()\n",
    "        mfcc_shape = mfcc.shape\n",
    "\n",
    "        zeros = np.zeros(self.segment_shape, dtype=np.float32)\n",
    "        if mfcc_shape[1] <= self.segment_shape[1]:\n",
    "            start_point = (self.segment_shape[1] - mfcc_shape[1]) // 2\n",
    "            zeros[:, start_point:start_point+mfcc_shape[1]] = mfcc\n",
    "        else:\n",
    "            start_point = (mfcc_shape[1] - self.segment_shape[1]) // 2\n",
    "            zeros = mfcc[:, start_point:start_point+self.segment_shape[1]]\n",
    "\n",
    "        return zeros\n",
    "\n",
    "\n",
    "class ToTensor(object):\n",
    "    def __call__(self, wav):\n",
    "        return torch.from_numpy(wav)\n",
    "\n",
    "\n",
    "class MFCC(object):\n",
    "    def __init__(self, fs=16_000, n_fft=480, hop_length=160, n_mels=128, n_mfcc=41):\n",
    "        \n",
    "        self.mfcc = T.MFCC(\n",
    "            sample_rate=fs,\n",
    "            n_mfcc=n_mfcc,\n",
    "            melkwargs={\n",
    "                \"n_fft\": n_fft,\n",
    "                \"n_mels\": n_mels,\n",
    "                \"hop_length\": hop_length,\n",
    "                \"mel_scale\": \"htk\",\n",
    "            },\n",
    "        )\n",
    "        \n",
    "    def __call__(self, wav):\n",
    "        mfcc = self.mfcc(wav)[1:]\n",
    "        mfcc = mfcc - mfcc.mean(axis=1, keepdims=True)\n",
    "        return mfcc / 100.0\n",
    "\n",
    "\n",
    "class Compose(object):\n",
    "    def __init__(self, transforms):\n",
    "        self.transforms = transforms\n",
    "\n",
    "    def __call__(self, wav):\n",
    "        for transform in self.transforms:\n",
    "            wav = transform(wav)\n",
    "\n",
    "        return wav\n",
    "\n",
    "\n",
    "\n",
    "class AugCompose:\n",
    "    def __init__(self, aug_list, aug_prob, p, n_apply, sample_rate=16_000):\n",
    "        self.aug_list = aug_list\n",
    "        self.aug_prob = np.array(aug_prob) / np.sum(aug_prob)\n",
    "        self.p = p\n",
    "        self.n_apply = n_apply\n",
    "        self.sample_rate = sample_rate\n",
    "        \n",
    "        self.range = list(range(len(aug_prob)))\n",
    "        \n",
    "    def __call__(self, wav):\n",
    "        \n",
    "        if random.random() < self.p:\n",
    "            indexs = random.choices(self.range, self.aug_prob)[0]\n",
    "            indexs = np.random.choice(self.range, size=self.n_apply, replace=False, p=self.aug_prob)\n",
    "            \n",
    "            for index in indexs:\n",
    "                wav = self.aug_list[index](wav, sample_rate=self.sample_rate)\n",
    "        \n",
    "        return wav"
   ]
  },
  {
   "cell_type": "code",
   "execution_count": 14,
   "id": "bad26c2f-8ebf-4cfd-b792-2e030668f1d3",
   "metadata": {},
   "outputs": [],
   "source": [
    "class ReadDataset(Dataset):\n",
    "    def __init__(self, fs=16_000, transforms=None):\n",
    "        self.fs = fs\n",
    "        self.transforms = transforms\n",
    "\n",
    "    def __getitem__(self, idx):\n",
    "        wav, _ = librosa.load(idx, sr=self.fs)\n",
    "        \n",
    "        if self.transforms:\n",
    "            wav = self.transforms(wav)\n",
    "\n",
    "        return wav"
   ]
  },
  {
   "cell_type": "code",
   "execution_count": null,
   "id": "36b2d3ee-87e6-40d5-850e-d592e6125a01",
   "metadata": {},
   "outputs": [],
   "source": []
  },
  {
   "cell_type": "code",
   "execution_count": 15,
   "id": "f7b84cd9-e3e7-4c80-a3b4-a333d4c99e8f",
   "metadata": {},
   "outputs": [],
   "source": [
    "speech_filenames = shuffle(glob(\"../Data/cv-corpus/fa/clips/*.mp3\"), random_state=42)\n",
    "noise_filenames = shuffle(glob(\"../Data/RIR_Noise/Noise/*.wav\"), random_state=42)\n",
    "rir_filenames = shuffle(glob(\"../Data/RIR_Noise/RIR/*.wav\"), random_state=42)\n",
    "\n",
    "\n",
    "AUGMENTATION = AugCompose(\n",
    "    [\n",
    "        AddBackgroundNoise(speech_filenames[:512], min_snr_in_db=10.0, max_snr_in_db=20.0, lru_cache_size=512, p=1.0),\n",
    "        AddBackgroundNoise(noise_filenames[:512], min_snr_in_db=10.0, max_snr_in_db=20.0, lru_cache_size=512, p=1.0),\n",
    "        ApplyImpulseResponse(rir_filenames[:512], lru_cache_size=512, p=1.0),\n",
    "        PitchShift(min_semitones=-3.0, max_semitones=3.0, p=1.0),\n",
    "        TimeStretch(min_rate=0.75, max_rate=1.25, p=1.0)\n",
    "    ],\n",
    "    aug_prob=[1.0, 1.0, 1.0, 1.0, 1.0],\n",
    "    p=0.5, n_apply=1,\n",
    ")"
   ]
  },
  {
   "cell_type": "code",
   "execution_count": 16,
   "id": "550fdd85-40a0-4f7d-9eac-ebb0d507db9c",
   "metadata": {},
   "outputs": [],
   "source": [
    "train_transforms = Compose(\n",
    "    [\n",
    "        PadTrimWav(segment_length=WAV_LENGTH),\n",
    "        AUGMENTATION,\n",
    "        Normalize(),\n",
    "        ToTensor(),\n",
    "        MFCC(),\n",
    "        RandomPadTrimMFCC(segment_shape=(40,N_MFCC)),\n",
    "        ToTensor(),\n",
    "    ]\n",
    ")\n",
    "\n",
    "valid_transforms = Compose(\n",
    "    [\n",
    "        PadTrimWav(segment_length=WAV_LENGTH),\n",
    "        Normalize(),\n",
    "        ToTensor(),\n",
    "        MFCC(),\n",
    "        PadTrimMFCC(segment_shape=(40,N_MFCC)),\n",
    "        ToTensor(),\n",
    "    ]\n",
    ")\n",
    "\n",
    "train_dataset = ReadDataset(transforms=train_transforms)\n",
    "valid_dataset = ReadDataset(transforms=valid_transforms)"
   ]
  },
  {
   "cell_type": "code",
   "execution_count": null,
   "id": "97731a4d-65fd-45bf-81c8-9fda68bf97c9",
   "metadata": {},
   "outputs": [],
   "source": []
  },
  {
   "cell_type": "code",
   "execution_count": 17,
   "id": "5ac1aff1-d883-4e1f-91f1-956ce7a5471a",
   "metadata": {},
   "outputs": [],
   "source": [
    "def train_collate_fn(batch_wavs):\n",
    "    batch_labels = []\n",
    "    for i in range(N_WAY):\n",
    "        batch_labels += [i] * N_QUERY\n",
    "        \n",
    "    batch_labels += [N_WAY] * (N_UNKNOWN * N_QUERY)\n",
    "    batch_labels = F.one_hot(torch.LongTensor(batch_labels))\n",
    "\n",
    "    batch_wavs = torch.stack(batch_wavs)\n",
    "    return batch_wavs, batch_labels\n",
    "\n",
    "\n",
    "def valid_collate_fn(batch_wavs):\n",
    "    batch_labels = []\n",
    "    for i in range(N_WAY_V):\n",
    "        batch_labels += [i] * N_QUERY_V\n",
    "        \n",
    "    batch_labels += [N_WAY_V] * (N_UNKNOWN_V * N_QUERY_V)\n",
    "    batch_labels = F.one_hot(torch.LongTensor(batch_labels))\n",
    "\n",
    "    batch_wavs = torch.stack(batch_wavs)\n",
    "    return batch_wavs, batch_labels"
   ]
  },
  {
   "cell_type": "code",
   "execution_count": 18,
   "id": "b66375c1-d260-46c8-99dc-f5ed8a6ac084",
   "metadata": {},
   "outputs": [],
   "source": [
    "train_dataloader = DataLoader(train_dataset,\n",
    "                              batch_sampler=train_sampler,\n",
    "                              num_workers=20,\n",
    "                              collate_fn=train_collate_fn,\n",
    "                              prefetch_factor=2)\n",
    "\n",
    "valid_dataloader = DataLoader(valid_dataset,\n",
    "                              batch_sampler=valid_sampler,\n",
    "                              num_workers=20,\n",
    "                              collate_fn=valid_collate_fn,\n",
    "                              prefetch_factor=2)"
   ]
  },
  {
   "cell_type": "code",
   "execution_count": 19,
   "id": "7b73eee2-4b40-4f9e-acb3-2a8c513c8d8c",
   "metadata": {},
   "outputs": [
    {
     "data": {
      "application/vnd.jupyter.widget-view+json": {
       "model_id": "447bf818a1c048e298ad86ec31114215",
       "version_major": 2,
       "version_minor": 0
      },
      "text/plain": [
       "  0%|          | 0/12461 [00:00<?, ?it/s]"
      ]
     },
     "metadata": {},
     "output_type": "display_data"
    },
    {
     "name": "stdout",
     "output_type": "stream",
     "text": [
      "torch.Size([600, 40, 70]) torch.Size([500, 11])\n"
     ]
    },
    {
     "data": {
      "application/vnd.jupyter.widget-view+json": {
       "model_id": "b1bb93865dae40bdaa3dc01e6a1eb502",
       "version_major": 2,
       "version_minor": 0
      },
      "text/plain": [
       "  0%|          | 0/842 [00:00<?, ?it/s]"
      ]
     },
     "metadata": {},
     "output_type": "display_data"
    }
   ],
   "source": [
    "for x, y in tqdm(train_dataloader):\n",
    "    break\n",
    "print(x.shape, y.shape)\n",
    "\n",
    "for x, y in tqdm(valid_dataloader):\n",
    "    break"
   ]
  },
  {
   "cell_type": "code",
   "execution_count": null,
   "id": "2a6f1c90-884d-4257-bf0a-ccee71dff1bf",
   "metadata": {},
   "outputs": [],
   "source": []
  },
  {
   "cell_type": "code",
   "execution_count": null,
   "id": "20517542-3ae5-4947-acd6-6c78dc546f0f",
   "metadata": {},
   "outputs": [],
   "source": []
  },
  {
   "cell_type": "code",
   "execution_count": 20,
   "id": "7f81f1f1-62d9-44ff-bee6-968135379d11",
   "metadata": {},
   "outputs": [
    {
     "data": {
      "text/plain": [
       "device(type='cuda')"
      ]
     },
     "execution_count": 20,
     "metadata": {},
     "output_type": "execute_result"
    }
   ],
   "source": [
    "device = torch.device(\"cuda\" if torch.cuda.is_available() else \"cpu\")\n",
    "device"
   ]
  },
  {
   "cell_type": "code",
   "execution_count": 21,
   "id": "da05413c-ceeb-4565-ba09-5e8e9290ef38",
   "metadata": {},
   "outputs": [],
   "source": [
    "model = wide_resnet12(normalize=False)\n",
    "model = model.to(device)"
   ]
  },
  {
   "cell_type": "code",
   "execution_count": 22,
   "id": "3c2f37ae-3ccd-4bbc-9455-80b2b7b962b1",
   "metadata": {},
   "outputs": [],
   "source": [
    "class DummyModel(torch.nn.Module):\n",
    "    def __init__(self, n_input=640, n_hidden=32):\n",
    "        super().__init__()\n",
    "        self.linear1 = torch.nn.Linear(n_input, n_hidden, bias=False)\n",
    "        self.relu = torch.nn.ReLU()\n",
    "        self.linear2 = torch.nn.Linear(n_hidden, n_hidden, bias=False)\n",
    "        self.linear3 = torch.nn.Linear(n_hidden, n_input, bias=False)\n",
    "        \n",
    "\n",
    "    def forward(self, x):\n",
    "        x = self.linear1(x)\n",
    "        x = self.relu(x)\n",
    "        x = self.linear2(x)\n",
    "        x, _ = torch.max(x, axis=0, keepdim=True)\n",
    "        x = self.linear3(x)\n",
    "        return x\n",
    "\n",
    "dummy_model = DummyModel()\n",
    "dummy_model = dummy_model.to(device)"
   ]
  },
  {
   "cell_type": "code",
   "execution_count": 23,
   "id": "5fcc9d7c-e615-461f-a429-a4fab263fe9c",
   "metadata": {},
   "outputs": [
    {
     "name": "stdout",
     "output_type": "stream",
     "text": [
      "Model parameters : 12.465024 M\n"
     ]
    }
   ],
   "source": [
    "pytorch_total_params = sum(p.numel() for p in model.parameters() if p.requires_grad) + sum(p.numel() for p in dummy_model.parameters() if p.requires_grad)\n",
    "print(f\"Model parameters : {pytorch_total_params / 10 ** 6} M\")"
   ]
  },
  {
   "cell_type": "code",
   "execution_count": null,
   "id": "3dbf562f-5ddc-4419-a348-5a62352e3ff8",
   "metadata": {},
   "outputs": [],
   "source": []
  },
  {
   "cell_type": "code",
   "execution_count": null,
   "id": "ef147bd4-5961-468d-93f8-bdf640dc135f",
   "metadata": {},
   "outputs": [],
   "source": []
  },
  {
   "cell_type": "code",
   "execution_count": 24,
   "id": "585b8167-f551-4059-acab-979e0e5f6077",
   "metadata": {},
   "outputs": [],
   "source": [
    "def calculate_probability(outputs, n_way, n_support):\n",
    "    output_supports = outputs[:n_way*n_support]\n",
    "    output_query = outputs[n_way*n_support:]\n",
    "    \n",
    "    support_centers = rearrange(output_supports, \"(w s) e -> w s e\", s=n_support).mean(axis=1)\n",
    "    unknown_center = dummy_model(support_centers)\n",
    "    \n",
    "    centers = torch.concat([support_centers, unknown_center], axis=0)\n",
    "    \n",
    "    center_weights = torch.ones((1, centers.shape[0]))\n",
    "    center_weights[:,-1] = GAMMA\n",
    "    center_weights = center_weights.to(device)\n",
    "    \n",
    "    distances = torch.cdist(output_query, centers, p=2)\n",
    "    distances = -distances / center_weights\n",
    "    likelihood = torch.exp(distances) / torch.exp(distances).sum(axis=1, keepdim=True)\n",
    "    \n",
    "    return likelihood\n",
    "\n",
    "\n",
    "def loss_fn(outputs, targets, n_way, n_support, n_query):\n",
    "    likelihood = calculate_probability(outputs, n_way, n_support)\n",
    "    \n",
    "    neg_prob = -torch.log(likelihood)\n",
    "    neg_prob = neg_prob * targets\n",
    "    \n",
    "    ce_loss_known = torch.sum(neg_prob[:n_way*n_query])\n",
    "    ce_loss_unknown = torch.sum(neg_prob[n_way*n_query:])\n",
    "    \n",
    "    return ce_loss_known, ce_loss_unknown"
   ]
  },
  {
   "cell_type": "code",
   "execution_count": null,
   "id": "1e37a3a9-574f-4486-9006-207810a9d4e6",
   "metadata": {},
   "outputs": [],
   "source": []
  },
  {
   "cell_type": "code",
   "execution_count": null,
   "id": "2564cbfe-fb6b-4290-841f-233bac70be00",
   "metadata": {},
   "outputs": [],
   "source": []
  },
  {
   "cell_type": "code",
   "execution_count": 25,
   "id": "45861110-a9dc-47e3-972e-56964380f9b3",
   "metadata": {},
   "outputs": [],
   "source": [
    "num_epochs = 50\n",
    "num_training_steps = num_epochs * len(train_dataloader)\n",
    "\n",
    "#optimizer = AdamW(model.parameters(), lr=1e-4, weight_decay=0.01) ######### weight decay\n",
    "optimizer = Adam(list(model.parameters()) + list(dummy_model.parameters()), lr=2e-4)\n",
    "#lr_scheduler = get_scheduler(\n",
    "#     \"linear\",\n",
    "#     optimizer=optimizer,\n",
    "#     num_warmup_steps=int(0.1*num_training_steps),\n",
    "#     num_training_steps=num_training_steps,\n",
    "#)"
   ]
  },
  {
   "cell_type": "code",
   "execution_count": 26,
   "id": "2f7cff43-f279-4860-b18d-13bba6613346",
   "metadata": {},
   "outputs": [],
   "source": [
    "#def top_k_score(y_true, y_pred, k=1):\n",
    "#    y_pred = torch.argsort(y_pred, axis=1, descending=True)[:,:k]\n",
    "#    y_true = torch.unsqueeze(y_true, 1)\n",
    "#\n",
    "#    return torch.sum(y_pred == y_true).item()\n",
    "\n",
    "\n",
    "def evaluate(Delta=0.5):\n",
    "    known_acc = []\n",
    "    unknown_acc = []\n",
    "    val_loss = []\n",
    "    val_known_loss = []\n",
    "    val_unknown_loss = []\n",
    "    \n",
    "    \n",
    "    LIKELIHOODS = []\n",
    "    for batch_x, batch_y in tqdm(valid_dataloader):\n",
    "        batch_x, batch_y = batch_x.to(device), batch_y.to(device)\n",
    "    \n",
    "        with torch.no_grad():\n",
    "            outputs = model(torch.unsqueeze(batch_x, 1))\n",
    "            \n",
    "            loss_known, loss_unknown = loss_fn(outputs, batch_y, N_WAY_V, N_SUPPORT_V, N_QUERY_V)\n",
    "            loss = LAMBDA * loss_known + loss_unknown\n",
    "            \n",
    "            val_loss.append(loss.item())\n",
    "            val_known_loss.append(loss_known.item())\n",
    "            val_unknown_loss.append(loss_unknown.item())\n",
    "    \n",
    "            likelihood = calculate_probability(outputs, N_WAY_V, N_SUPPORT_V)\n",
    "            LIKELIHOODS.append(likelihood)\n",
    "    \n",
    "            #known_acc.append(torch.sum(likelihood[:N_WAY_V*N_QUERY_V,1] < Delta).cpu().item() / (N_WAY_V*N_QUERY_V))\n",
    "            #unknown_acc.append(torch.sum(likelihood[N_WAY_V*N_QUERY_V:,1] >= Delta).cpu().item() / (likelihood.size(0) - N_WAY_V*N_QUERY_V))\n",
    "\n",
    "\n",
    "    \n",
    "    A = rearrange(torch.stack(LIKELIHOODS, axis=0)[:,:N_WAY_V*N_QUERY_V,:], \"a b c -> (a b) c\")\n",
    "    B = rearrange(torch.stack(LIKELIHOODS, axis=0)[:,N_WAY_V*N_QUERY_V:,:], \"a b c -> (a b) c\")\n",
    "    \n",
    "    known_acc, unknown_acc = [], []\n",
    "    for delta in np.arange(0,1,0.001):\n",
    "        known = torch.sum(A[:,1] < delta) / A.shape[0]\n",
    "        unknown = torch.sum(B[:,1] > delta) / B.shape[0]\n",
    "    \n",
    "        known_acc.append(known.item())\n",
    "        unknown_acc.append(unknown.item())\n",
    "\n",
    "    mul_prob = np.array(known_acc) * np.array(unknown_acc)\n",
    "    MAX, IDX = np.max(mul_prob), np.argmax(mul_prob)\n",
    "\n",
    "    \n",
    "    \n",
    "    #known_acc = np.mean(known_acc)\n",
    "    #unknown_acc = np.mean(unknown_acc)\n",
    "    known_acc = known_acc[IDX]\n",
    "    unknown_acc = unknown_acc[IDX]\n",
    "    \n",
    "    val_loss = np.mean(val_loss)\n",
    "    val_known_loss = np.mean(val_known_loss)\n",
    "    val_unknown_loss = np.mean(val_unknown_loss)\n",
    "\n",
    "    return known_acc, unknown_acc, val_loss, val_known_loss, val_unknown_loss, IDX / 1000"
   ]
  },
  {
   "cell_type": "code",
   "execution_count": null,
   "id": "36d85f43-247f-4d26-b0b4-71bb6f1102b8",
   "metadata": {},
   "outputs": [],
   "source": []
  },
  {
   "cell_type": "code",
   "execution_count": 27,
   "id": "8837baae-cb75-4457-a29c-4ea3a132698f",
   "metadata": {},
   "outputs": [],
   "source": [
    "## resume training\n",
    "checkpoint = torch.load(\"./RESULTS/WithoutEMA/pretrained_model_623000.pth\")\n",
    "\n",
    "step_count = checkpoint[\"steps\"]\n",
    "model.load_state_dict(checkpoint['model'])\n",
    "dummy_model.load_state_dict(checkpoint['dummy_model'])\n",
    "optimizer.load_state_dict(checkpoint[\"optimizer\"])"
   ]
  },
  {
   "cell_type": "code",
   "execution_count": 28,
   "id": "b38a7d6b-70b9-4814-bc1f-bb19e2182bbf",
   "metadata": {},
   "outputs": [],
   "source": [
    "torch.save({\n",
    "    \"model\": model.state_dict(),\n",
    "    \"dummy_model\" : dummy_model.state_dict(),\n",
    "}, f\"SAVED_MODELS/WideResNet12WithoutEMA.pth\")"
   ]
  },
  {
   "cell_type": "code",
   "execution_count": null,
   "id": "682b3ce5-8b06-484f-8066-94890837e8e3",
   "metadata": {},
   "outputs": [],
   "source": []
  },
  {
   "cell_type": "code",
   "execution_count": null,
   "id": "ccd54fcb-6973-469d-bfd1-5cbc5f29fe0b",
   "metadata": {},
   "outputs": [],
   "source": []
  },
  {
   "cell_type": "code",
   "execution_count": 28,
   "id": "ad94c655-76ab-4ce4-bef9-27110796feed",
   "metadata": {},
   "outputs": [
    {
     "data": {
      "application/vnd.jupyter.widget-view+json": {
       "model_id": "85dcc11458d34514826038c8e79de417",
       "version_major": 2,
       "version_minor": 0
      },
      "text/plain": [
       "  0%|          | 0/623000 [00:00<?, ?it/s]"
      ]
     },
     "metadata": {},
     "output_type": "display_data"
    },
    {
     "data": {
      "application/vnd.jupyter.widget-view+json": {
       "model_id": "95758ed500314b258668d5940fc276c8",
       "version_major": 2,
       "version_minor": 0
      },
      "text/plain": [
       "  0%|          | 0/843 [00:00<?, ?it/s]"
      ]
     },
     "metadata": {},
     "output_type": "display_data"
    },
    {
     "data": {
      "application/vnd.jupyter.widget-view+json": {
       "model_id": "3865b072e44148b5b738e1be9fd95857",
       "version_major": 2,
       "version_minor": 0
      },
      "text/plain": [
       "  0%|          | 0/843 [00:00<?, ?it/s]"
      ]
     },
     "metadata": {},
     "output_type": "display_data"
    },
    {
     "data": {
      "application/vnd.jupyter.widget-view+json": {
       "model_id": "211a52f45cfc4980a88d3e759d06a38b",
       "version_major": 2,
       "version_minor": 0
      },
      "text/plain": [
       "  0%|          | 0/843 [00:00<?, ?it/s]"
      ]
     },
     "metadata": {},
     "output_type": "display_data"
    },
    {
     "data": {
      "application/vnd.jupyter.widget-view+json": {
       "model_id": "fda20fcad5e149548b2191e5a760933b",
       "version_major": 2,
       "version_minor": 0
      },
      "text/plain": [
       "  0%|          | 0/843 [00:00<?, ?it/s]"
      ]
     },
     "metadata": {},
     "output_type": "display_data"
    },
    {
     "data": {
      "application/vnd.jupyter.widget-view+json": {
       "model_id": "89af26cd06d44d80a34173e1b0904b3b",
       "version_major": 2,
       "version_minor": 0
      },
      "text/plain": [
       "  0%|          | 0/843 [00:00<?, ?it/s]"
      ]
     },
     "metadata": {},
     "output_type": "display_data"
    },
    {
     "data": {
      "application/vnd.jupyter.widget-view+json": {
       "model_id": "f356cdd5efb1456297edb1f2dce2b22f",
       "version_major": 2,
       "version_minor": 0
      },
      "text/plain": [
       "  0%|          | 0/843 [00:00<?, ?it/s]"
      ]
     },
     "metadata": {},
     "output_type": "display_data"
    },
    {
     "data": {
      "application/vnd.jupyter.widget-view+json": {
       "model_id": "d9dcff6defd74f40bc2a0f7576623ee9",
       "version_major": 2,
       "version_minor": 0
      },
      "text/plain": [
       "  0%|          | 0/843 [00:00<?, ?it/s]"
      ]
     },
     "metadata": {},
     "output_type": "display_data"
    },
    {
     "data": {
      "application/vnd.jupyter.widget-view+json": {
       "model_id": "ab25f45968794e938a58e36ec2e9a438",
       "version_major": 2,
       "version_minor": 0
      },
      "text/plain": [
       "  0%|          | 0/843 [00:00<?, ?it/s]"
      ]
     },
     "metadata": {},
     "output_type": "display_data"
    },
    {
     "data": {
      "application/vnd.jupyter.widget-view+json": {
       "model_id": "3d4feb9744204b35bb8c85fa413392c3",
       "version_major": 2,
       "version_minor": 0
      },
      "text/plain": [
       "  0%|          | 0/843 [00:00<?, ?it/s]"
      ]
     },
     "metadata": {},
     "output_type": "display_data"
    },
    {
     "data": {
      "application/vnd.jupyter.widget-view+json": {
       "model_id": "0cafe07e49f747c198de8c612a7f4c43",
       "version_major": 2,
       "version_minor": 0
      },
      "text/plain": [
       "  0%|          | 0/843 [00:00<?, ?it/s]"
      ]
     },
     "metadata": {},
     "output_type": "display_data"
    },
    {
     "data": {
      "application/vnd.jupyter.widget-view+json": {
       "model_id": "75845a8182284bc7b0fcf700e69cc660",
       "version_major": 2,
       "version_minor": 0
      },
      "text/plain": [
       "  0%|          | 0/843 [00:00<?, ?it/s]"
      ]
     },
     "metadata": {},
     "output_type": "display_data"
    },
    {
     "data": {
      "application/vnd.jupyter.widget-view+json": {
       "model_id": "411e9f3139d446f8860370a62aa3e615",
       "version_major": 2,
       "version_minor": 0
      },
      "text/plain": [
       "  0%|          | 0/843 [00:00<?, ?it/s]"
      ]
     },
     "metadata": {},
     "output_type": "display_data"
    },
    {
     "data": {
      "application/vnd.jupyter.widget-view+json": {
       "model_id": "0c606b7bcb76423599f3b47c4eba5b3e",
       "version_major": 2,
       "version_minor": 0
      },
      "text/plain": [
       "  0%|          | 0/843 [00:00<?, ?it/s]"
      ]
     },
     "metadata": {},
     "output_type": "display_data"
    },
    {
     "data": {
      "application/vnd.jupyter.widget-view+json": {
       "model_id": "b95264abe77241c797ec5650b8daf781",
       "version_major": 2,
       "version_minor": 0
      },
      "text/plain": [
       "  0%|          | 0/843 [00:00<?, ?it/s]"
      ]
     },
     "metadata": {},
     "output_type": "display_data"
    },
    {
     "data": {
      "application/vnd.jupyter.widget-view+json": {
       "model_id": "96e19ee0d9594a0abc5e0d0a3824f61c",
       "version_major": 2,
       "version_minor": 0
      },
      "text/plain": [
       "  0%|          | 0/843 [00:00<?, ?it/s]"
      ]
     },
     "metadata": {},
     "output_type": "display_data"
    },
    {
     "data": {
      "application/vnd.jupyter.widget-view+json": {
       "model_id": "b2af90f5f90d43d7bfd5eb111c829aea",
       "version_major": 2,
       "version_minor": 0
      },
      "text/plain": [
       "  0%|          | 0/843 [00:00<?, ?it/s]"
      ]
     },
     "metadata": {},
     "output_type": "display_data"
    },
    {
     "data": {
      "application/vnd.jupyter.widget-view+json": {
       "model_id": "c83744ce6bb5409486264e769fd50962",
       "version_major": 2,
       "version_minor": 0
      },
      "text/plain": [
       "  0%|          | 0/843 [00:00<?, ?it/s]"
      ]
     },
     "metadata": {},
     "output_type": "display_data"
    },
    {
     "data": {
      "application/vnd.jupyter.widget-view+json": {
       "model_id": "14d34ffcc6a54301ac1a782de17acb04",
       "version_major": 2,
       "version_minor": 0
      },
      "text/plain": [
       "  0%|          | 0/843 [00:00<?, ?it/s]"
      ]
     },
     "metadata": {},
     "output_type": "display_data"
    },
    {
     "data": {
      "application/vnd.jupyter.widget-view+json": {
       "model_id": "504c8d4bbf4e4fe5a86b95131d5d98d5",
       "version_major": 2,
       "version_minor": 0
      },
      "text/plain": [
       "  0%|          | 0/843 [00:00<?, ?it/s]"
      ]
     },
     "metadata": {},
     "output_type": "display_data"
    },
    {
     "data": {
      "application/vnd.jupyter.widget-view+json": {
       "model_id": "0e64ca564e7247c48508961efab69afb",
       "version_major": 2,
       "version_minor": 0
      },
      "text/plain": [
       "  0%|          | 0/843 [00:00<?, ?it/s]"
      ]
     },
     "metadata": {},
     "output_type": "display_data"
    },
    {
     "data": {
      "application/vnd.jupyter.widget-view+json": {
       "model_id": "3cbb5568816349bd911b8416bc742305",
       "version_major": 2,
       "version_minor": 0
      },
      "text/plain": [
       "  0%|          | 0/843 [00:00<?, ?it/s]"
      ]
     },
     "metadata": {},
     "output_type": "display_data"
    },
    {
     "data": {
      "application/vnd.jupyter.widget-view+json": {
       "model_id": "2b44c6814e8347e5b0dd7a59915a8e63",
       "version_major": 2,
       "version_minor": 0
      },
      "text/plain": [
       "  0%|          | 0/843 [00:00<?, ?it/s]"
      ]
     },
     "metadata": {},
     "output_type": "display_data"
    },
    {
     "data": {
      "application/vnd.jupyter.widget-view+json": {
       "model_id": "43b2c225dfd844caaaec47ad1191fdf5",
       "version_major": 2,
       "version_minor": 0
      },
      "text/plain": [
       "  0%|          | 0/843 [00:00<?, ?it/s]"
      ]
     },
     "metadata": {},
     "output_type": "display_data"
    },
    {
     "data": {
      "application/vnd.jupyter.widget-view+json": {
       "model_id": "1fdf007d190d4632a37303743463ceac",
       "version_major": 2,
       "version_minor": 0
      },
      "text/plain": [
       "  0%|          | 0/843 [00:00<?, ?it/s]"
      ]
     },
     "metadata": {},
     "output_type": "display_data"
    },
    {
     "data": {
      "application/vnd.jupyter.widget-view+json": {
       "model_id": "c1f17d5e261144cc9633441cea8cfac8",
       "version_major": 2,
       "version_minor": 0
      },
      "text/plain": [
       "  0%|          | 0/843 [00:00<?, ?it/s]"
      ]
     },
     "metadata": {},
     "output_type": "display_data"
    },
    {
     "data": {
      "application/vnd.jupyter.widget-view+json": {
       "model_id": "63d9c0e606ca4f45a4438c1e2cf7b31f",
       "version_major": 2,
       "version_minor": 0
      },
      "text/plain": [
       "  0%|          | 0/843 [00:00<?, ?it/s]"
      ]
     },
     "metadata": {},
     "output_type": "display_data"
    },
    {
     "data": {
      "application/vnd.jupyter.widget-view+json": {
       "model_id": "418e5300c80442769991ea15b2785af2",
       "version_major": 2,
       "version_minor": 0
      },
      "text/plain": [
       "  0%|          | 0/843 [00:00<?, ?it/s]"
      ]
     },
     "metadata": {},
     "output_type": "display_data"
    },
    {
     "data": {
      "application/vnd.jupyter.widget-view+json": {
       "model_id": "e64b5cdaef9646feb3c6aa2232640e5d",
       "version_major": 2,
       "version_minor": 0
      },
      "text/plain": [
       "  0%|          | 0/843 [00:00<?, ?it/s]"
      ]
     },
     "metadata": {},
     "output_type": "display_data"
    },
    {
     "data": {
      "application/vnd.jupyter.widget-view+json": {
       "model_id": "12d70f1dbafa47e6adbcc9d4555477ce",
       "version_major": 2,
       "version_minor": 0
      },
      "text/plain": [
       "  0%|          | 0/843 [00:00<?, ?it/s]"
      ]
     },
     "metadata": {},
     "output_type": "display_data"
    },
    {
     "data": {
      "application/vnd.jupyter.widget-view+json": {
       "model_id": "7524faa785f3439c8f991cbcb9d6b990",
       "version_major": 2,
       "version_minor": 0
      },
      "text/plain": [
       "  0%|          | 0/843 [00:00<?, ?it/s]"
      ]
     },
     "metadata": {},
     "output_type": "display_data"
    },
    {
     "data": {
      "application/vnd.jupyter.widget-view+json": {
       "model_id": "51862893788b439480073e5542d368c4",
       "version_major": 2,
       "version_minor": 0
      },
      "text/plain": [
       "  0%|          | 0/843 [00:00<?, ?it/s]"
      ]
     },
     "metadata": {},
     "output_type": "display_data"
    },
    {
     "data": {
      "application/vnd.jupyter.widget-view+json": {
       "model_id": "29b8b18ac69c425e943db632e24b415d",
       "version_major": 2,
       "version_minor": 0
      },
      "text/plain": [
       "  0%|          | 0/843 [00:00<?, ?it/s]"
      ]
     },
     "metadata": {},
     "output_type": "display_data"
    },
    {
     "data": {
      "application/vnd.jupyter.widget-view+json": {
       "model_id": "1467a59a8dcd421b8717c3eb8868c1e5",
       "version_major": 2,
       "version_minor": 0
      },
      "text/plain": [
       "  0%|          | 0/843 [00:00<?, ?it/s]"
      ]
     },
     "metadata": {},
     "output_type": "display_data"
    },
    {
     "data": {
      "application/vnd.jupyter.widget-view+json": {
       "model_id": "6553417634534baa9ae5bd7fe93d89da",
       "version_major": 2,
       "version_minor": 0
      },
      "text/plain": [
       "  0%|          | 0/843 [00:00<?, ?it/s]"
      ]
     },
     "metadata": {},
     "output_type": "display_data"
    },
    {
     "data": {
      "application/vnd.jupyter.widget-view+json": {
       "model_id": "96f16be8e47840f3aa7aefc25ee15f58",
       "version_major": 2,
       "version_minor": 0
      },
      "text/plain": [
       "  0%|          | 0/843 [00:00<?, ?it/s]"
      ]
     },
     "metadata": {},
     "output_type": "display_data"
    },
    {
     "data": {
      "application/vnd.jupyter.widget-view+json": {
       "model_id": "e448c5fd1bf24e3cbce72a024e52b2f5",
       "version_major": 2,
       "version_minor": 0
      },
      "text/plain": [
       "  0%|          | 0/843 [00:00<?, ?it/s]"
      ]
     },
     "metadata": {},
     "output_type": "display_data"
    },
    {
     "data": {
      "application/vnd.jupyter.widget-view+json": {
       "model_id": "abb8a76001454b46a254506c9e681746",
       "version_major": 2,
       "version_minor": 0
      },
      "text/plain": [
       "  0%|          | 0/843 [00:00<?, ?it/s]"
      ]
     },
     "metadata": {},
     "output_type": "display_data"
    },
    {
     "data": {
      "application/vnd.jupyter.widget-view+json": {
       "model_id": "a76b392854d14d11b78114d89cc75e25",
       "version_major": 2,
       "version_minor": 0
      },
      "text/plain": [
       "  0%|          | 0/843 [00:00<?, ?it/s]"
      ]
     },
     "metadata": {},
     "output_type": "display_data"
    },
    {
     "data": {
      "application/vnd.jupyter.widget-view+json": {
       "model_id": "6b083aec19ed4ed6beb8974557079951",
       "version_major": 2,
       "version_minor": 0
      },
      "text/plain": [
       "  0%|          | 0/843 [00:00<?, ?it/s]"
      ]
     },
     "metadata": {},
     "output_type": "display_data"
    },
    {
     "data": {
      "application/vnd.jupyter.widget-view+json": {
       "model_id": "8049574ac2c94e8e8267b751a83a47be",
       "version_major": 2,
       "version_minor": 0
      },
      "text/plain": [
       "  0%|          | 0/843 [00:00<?, ?it/s]"
      ]
     },
     "metadata": {},
     "output_type": "display_data"
    },
    {
     "data": {
      "application/vnd.jupyter.widget-view+json": {
       "model_id": "edaefe17c94f42428e784fd417bb040a",
       "version_major": 2,
       "version_minor": 0
      },
      "text/plain": [
       "  0%|          | 0/843 [00:00<?, ?it/s]"
      ]
     },
     "metadata": {},
     "output_type": "display_data"
    },
    {
     "data": {
      "application/vnd.jupyter.widget-view+json": {
       "model_id": "18989814b41841fdb890c2b3b28521f8",
       "version_major": 2,
       "version_minor": 0
      },
      "text/plain": [
       "  0%|          | 0/843 [00:00<?, ?it/s]"
      ]
     },
     "metadata": {},
     "output_type": "display_data"
    },
    {
     "data": {
      "application/vnd.jupyter.widget-view+json": {
       "model_id": "04069637fc31488c9f244f655f813134",
       "version_major": 2,
       "version_minor": 0
      },
      "text/plain": [
       "  0%|          | 0/843 [00:00<?, ?it/s]"
      ]
     },
     "metadata": {},
     "output_type": "display_data"
    },
    {
     "data": {
      "application/vnd.jupyter.widget-view+json": {
       "model_id": "08851d8ef1e344b7b3fb62b7b90cd3c5",
       "version_major": 2,
       "version_minor": 0
      },
      "text/plain": [
       "  0%|          | 0/843 [00:00<?, ?it/s]"
      ]
     },
     "metadata": {},
     "output_type": "display_data"
    },
    {
     "data": {
      "application/vnd.jupyter.widget-view+json": {
       "model_id": "f6e884ac482c424f81628515a7593dd5",
       "version_major": 2,
       "version_minor": 0
      },
      "text/plain": [
       "  0%|          | 0/843 [00:00<?, ?it/s]"
      ]
     },
     "metadata": {},
     "output_type": "display_data"
    },
    {
     "data": {
      "application/vnd.jupyter.widget-view+json": {
       "model_id": "d8c2f88acf5a434ba2f8ef7820d9821a",
       "version_major": 2,
       "version_minor": 0
      },
      "text/plain": [
       "  0%|          | 0/843 [00:00<?, ?it/s]"
      ]
     },
     "metadata": {},
     "output_type": "display_data"
    },
    {
     "data": {
      "application/vnd.jupyter.widget-view+json": {
       "model_id": "681d072760ae40bf8d90050227e6413b",
       "version_major": 2,
       "version_minor": 0
      },
      "text/plain": [
       "  0%|          | 0/843 [00:00<?, ?it/s]"
      ]
     },
     "metadata": {},
     "output_type": "display_data"
    },
    {
     "data": {
      "application/vnd.jupyter.widget-view+json": {
       "model_id": "efc32fc3d5b649f0bf90d6a6ba24dba4",
       "version_major": 2,
       "version_minor": 0
      },
      "text/plain": [
       "  0%|          | 0/843 [00:00<?, ?it/s]"
      ]
     },
     "metadata": {},
     "output_type": "display_data"
    },
    {
     "data": {
      "application/vnd.jupyter.widget-view+json": {
       "model_id": "6b2b4b1823bb4f91b1f0afadd40313f9",
       "version_major": 2,
       "version_minor": 0
      },
      "text/plain": [
       "  0%|          | 0/843 [00:00<?, ?it/s]"
      ]
     },
     "metadata": {},
     "output_type": "display_data"
    },
    {
     "data": {
      "application/vnd.jupyter.widget-view+json": {
       "model_id": "1e1dca06d36b4461a8ae07507fce598b",
       "version_major": 2,
       "version_minor": 0
      },
      "text/plain": [
       "  0%|          | 0/843 [00:00<?, ?it/s]"
      ]
     },
     "metadata": {},
     "output_type": "display_data"
    },
    {
     "data": {
      "application/vnd.jupyter.widget-view+json": {
       "model_id": "8aa253f3e676467c85c913319e4031d3",
       "version_major": 2,
       "version_minor": 0
      },
      "text/plain": [
       "  0%|          | 0/843 [00:00<?, ?it/s]"
      ]
     },
     "metadata": {},
     "output_type": "display_data"
    },
    {
     "data": {
      "application/vnd.jupyter.widget-view+json": {
       "model_id": "47b2fadec0b24072920c4c93808ba30c",
       "version_major": 2,
       "version_minor": 0
      },
      "text/plain": [
       "  0%|          | 0/843 [00:00<?, ?it/s]"
      ]
     },
     "metadata": {},
     "output_type": "display_data"
    },
    {
     "data": {
      "application/vnd.jupyter.widget-view+json": {
       "model_id": "4d3aabc492e54be7a30878b9948ca8fc",
       "version_major": 2,
       "version_minor": 0
      },
      "text/plain": [
       "  0%|          | 0/843 [00:00<?, ?it/s]"
      ]
     },
     "metadata": {},
     "output_type": "display_data"
    },
    {
     "data": {
      "application/vnd.jupyter.widget-view+json": {
       "model_id": "b2c4330accee4b2eb80d550187fd176b",
       "version_major": 2,
       "version_minor": 0
      },
      "text/plain": [
       "  0%|          | 0/843 [00:00<?, ?it/s]"
      ]
     },
     "metadata": {},
     "output_type": "display_data"
    },
    {
     "data": {
      "application/vnd.jupyter.widget-view+json": {
       "model_id": "092f4d7673e34ba9bef00c6a31f4d553",
       "version_major": 2,
       "version_minor": 0
      },
      "text/plain": [
       "  0%|          | 0/843 [00:00<?, ?it/s]"
      ]
     },
     "metadata": {},
     "output_type": "display_data"
    },
    {
     "data": {
      "application/vnd.jupyter.widget-view+json": {
       "model_id": "50c1304ff6a44e368f82236ded147c53",
       "version_major": 2,
       "version_minor": 0
      },
      "text/plain": [
       "  0%|          | 0/843 [00:00<?, ?it/s]"
      ]
     },
     "metadata": {},
     "output_type": "display_data"
    },
    {
     "data": {
      "application/vnd.jupyter.widget-view+json": {
       "model_id": "8855c939fa7e4df5926f142fbf2f38f5",
       "version_major": 2,
       "version_minor": 0
      },
      "text/plain": [
       "  0%|          | 0/843 [00:00<?, ?it/s]"
      ]
     },
     "metadata": {},
     "output_type": "display_data"
    },
    {
     "data": {
      "application/vnd.jupyter.widget-view+json": {
       "model_id": "cd21dc77a93744aebdba5dc2d0cfb197",
       "version_major": 2,
       "version_minor": 0
      },
      "text/plain": [
       "  0%|          | 0/843 [00:00<?, ?it/s]"
      ]
     },
     "metadata": {},
     "output_type": "display_data"
    },
    {
     "data": {
      "application/vnd.jupyter.widget-view+json": {
       "model_id": "9a0df80577734124bbc463014a6cada8",
       "version_major": 2,
       "version_minor": 0
      },
      "text/plain": [
       "  0%|          | 0/843 [00:00<?, ?it/s]"
      ]
     },
     "metadata": {},
     "output_type": "display_data"
    },
    {
     "data": {
      "application/vnd.jupyter.widget-view+json": {
       "model_id": "503e839aae714fe7b3bf769280e554db",
       "version_major": 2,
       "version_minor": 0
      },
      "text/plain": [
       "  0%|          | 0/843 [00:00<?, ?it/s]"
      ]
     },
     "metadata": {},
     "output_type": "display_data"
    },
    {
     "data": {
      "application/vnd.jupyter.widget-view+json": {
       "model_id": "2717ad214d544578a15f104fb983e189",
       "version_major": 2,
       "version_minor": 0
      },
      "text/plain": [
       "  0%|          | 0/843 [00:00<?, ?it/s]"
      ]
     },
     "metadata": {},
     "output_type": "display_data"
    },
    {
     "data": {
      "application/vnd.jupyter.widget-view+json": {
       "model_id": "6fb75eaad47645bbbb813f4d4674fbc4",
       "version_major": 2,
       "version_minor": 0
      },
      "text/plain": [
       "  0%|          | 0/843 [00:00<?, ?it/s]"
      ]
     },
     "metadata": {},
     "output_type": "display_data"
    },
    {
     "data": {
      "application/vnd.jupyter.widget-view+json": {
       "model_id": "f04c0b3ba821473082caaac1aa80e3cc",
       "version_major": 2,
       "version_minor": 0
      },
      "text/plain": [
       "  0%|          | 0/843 [00:00<?, ?it/s]"
      ]
     },
     "metadata": {},
     "output_type": "display_data"
    },
    {
     "data": {
      "application/vnd.jupyter.widget-view+json": {
       "model_id": "ba01e13b2b54485b9b55757b860ce21e",
       "version_major": 2,
       "version_minor": 0
      },
      "text/plain": [
       "  0%|          | 0/843 [00:00<?, ?it/s]"
      ]
     },
     "metadata": {},
     "output_type": "display_data"
    },
    {
     "data": {
      "application/vnd.jupyter.widget-view+json": {
       "model_id": "02de1666b7534ac89cb57e8f4f41b2f4",
       "version_major": 2,
       "version_minor": 0
      },
      "text/plain": [
       "  0%|          | 0/843 [00:00<?, ?it/s]"
      ]
     },
     "metadata": {},
     "output_type": "display_data"
    },
    {
     "data": {
      "application/vnd.jupyter.widget-view+json": {
       "model_id": "b108e8854dd24341b11fb064c836164b",
       "version_major": 2,
       "version_minor": 0
      },
      "text/plain": [
       "  0%|          | 0/843 [00:00<?, ?it/s]"
      ]
     },
     "metadata": {},
     "output_type": "display_data"
    },
    {
     "data": {
      "application/vnd.jupyter.widget-view+json": {
       "model_id": "197879de0cd14267920da67d3ae02936",
       "version_major": 2,
       "version_minor": 0
      },
      "text/plain": [
       "  0%|          | 0/843 [00:00<?, ?it/s]"
      ]
     },
     "metadata": {},
     "output_type": "display_data"
    },
    {
     "data": {
      "application/vnd.jupyter.widget-view+json": {
       "model_id": "1f25fe11b42c476fa7c97cf380f7bbc1",
       "version_major": 2,
       "version_minor": 0
      },
      "text/plain": [
       "  0%|          | 0/843 [00:00<?, ?it/s]"
      ]
     },
     "metadata": {},
     "output_type": "display_data"
    },
    {
     "data": {
      "application/vnd.jupyter.widget-view+json": {
       "model_id": "8e11c29548a54c8a9dae8e23dbf2c2cc",
       "version_major": 2,
       "version_minor": 0
      },
      "text/plain": [
       "  0%|          | 0/843 [00:00<?, ?it/s]"
      ]
     },
     "metadata": {},
     "output_type": "display_data"
    },
    {
     "data": {
      "application/vnd.jupyter.widget-view+json": {
       "model_id": "c894bbbe6dc243dc84f0382ec280c60e",
       "version_major": 2,
       "version_minor": 0
      },
      "text/plain": [
       "  0%|          | 0/843 [00:00<?, ?it/s]"
      ]
     },
     "metadata": {},
     "output_type": "display_data"
    },
    {
     "data": {
      "application/vnd.jupyter.widget-view+json": {
       "model_id": "a4eed04e930b4538a3eeea0641cbdd91",
       "version_major": 2,
       "version_minor": 0
      },
      "text/plain": [
       "  0%|          | 0/843 [00:00<?, ?it/s]"
      ]
     },
     "metadata": {},
     "output_type": "display_data"
    },
    {
     "data": {
      "application/vnd.jupyter.widget-view+json": {
       "model_id": "8eea40b955e34af2967d6897cde0256e",
       "version_major": 2,
       "version_minor": 0
      },
      "text/plain": [
       "  0%|          | 0/843 [00:00<?, ?it/s]"
      ]
     },
     "metadata": {},
     "output_type": "display_data"
    },
    {
     "data": {
      "application/vnd.jupyter.widget-view+json": {
       "model_id": "f6c156ec5254420799b550406b1865d4",
       "version_major": 2,
       "version_minor": 0
      },
      "text/plain": [
       "  0%|          | 0/843 [00:00<?, ?it/s]"
      ]
     },
     "metadata": {},
     "output_type": "display_data"
    },
    {
     "data": {
      "application/vnd.jupyter.widget-view+json": {
       "model_id": "4f7bbe51c6c84bdab3ced4fd232aa4eb",
       "version_major": 2,
       "version_minor": 0
      },
      "text/plain": [
       "  0%|          | 0/843 [00:00<?, ?it/s]"
      ]
     },
     "metadata": {},
     "output_type": "display_data"
    },
    {
     "data": {
      "application/vnd.jupyter.widget-view+json": {
       "model_id": "a7c2147c2275454799ff6fb5c291082d",
       "version_major": 2,
       "version_minor": 0
      },
      "text/plain": [
       "  0%|          | 0/843 [00:00<?, ?it/s]"
      ]
     },
     "metadata": {},
     "output_type": "display_data"
    },
    {
     "data": {
      "application/vnd.jupyter.widget-view+json": {
       "model_id": "ea0ac2df45b241b6b59464c9d18a7548",
       "version_major": 2,
       "version_minor": 0
      },
      "text/plain": [
       "  0%|          | 0/843 [00:00<?, ?it/s]"
      ]
     },
     "metadata": {},
     "output_type": "display_data"
    },
    {
     "data": {
      "application/vnd.jupyter.widget-view+json": {
       "model_id": "effde7f0ae294f3696907138f17548f1",
       "version_major": 2,
       "version_minor": 0
      },
      "text/plain": [
       "  0%|          | 0/843 [00:00<?, ?it/s]"
      ]
     },
     "metadata": {},
     "output_type": "display_data"
    },
    {
     "data": {
      "application/vnd.jupyter.widget-view+json": {
       "model_id": "9cdf15df2e95444cb2010b1892b42e7b",
       "version_major": 2,
       "version_minor": 0
      },
      "text/plain": [
       "  0%|          | 0/843 [00:00<?, ?it/s]"
      ]
     },
     "metadata": {},
     "output_type": "display_data"
    },
    {
     "data": {
      "application/vnd.jupyter.widget-view+json": {
       "model_id": "d0c3adae73ca4e54be17425edf75bf72",
       "version_major": 2,
       "version_minor": 0
      },
      "text/plain": [
       "  0%|          | 0/843 [00:00<?, ?it/s]"
      ]
     },
     "metadata": {},
     "output_type": "display_data"
    },
    {
     "data": {
      "application/vnd.jupyter.widget-view+json": {
       "model_id": "0ae6cb95f8674e9a8d8835eee8bf70fb",
       "version_major": 2,
       "version_minor": 0
      },
      "text/plain": [
       "  0%|          | 0/843 [00:00<?, ?it/s]"
      ]
     },
     "metadata": {},
     "output_type": "display_data"
    },
    {
     "data": {
      "application/vnd.jupyter.widget-view+json": {
       "model_id": "45fd3fb6d88844f58c7944b64142a33b",
       "version_major": 2,
       "version_minor": 0
      },
      "text/plain": [
       "  0%|          | 0/843 [00:00<?, ?it/s]"
      ]
     },
     "metadata": {},
     "output_type": "display_data"
    },
    {
     "data": {
      "application/vnd.jupyter.widget-view+json": {
       "model_id": "55be7749682f4b8f811dd2f084a351c9",
       "version_major": 2,
       "version_minor": 0
      },
      "text/plain": [
       "  0%|          | 0/843 [00:00<?, ?it/s]"
      ]
     },
     "metadata": {},
     "output_type": "display_data"
    },
    {
     "data": {
      "application/vnd.jupyter.widget-view+json": {
       "model_id": "831e38a32d2e494a8ea6c270ef4ecbd7",
       "version_major": 2,
       "version_minor": 0
      },
      "text/plain": [
       "  0%|          | 0/843 [00:00<?, ?it/s]"
      ]
     },
     "metadata": {},
     "output_type": "display_data"
    },
    {
     "data": {
      "application/vnd.jupyter.widget-view+json": {
       "model_id": "6492f598f3d64232865abf85407effc9",
       "version_major": 2,
       "version_minor": 0
      },
      "text/plain": [
       "  0%|          | 0/843 [00:00<?, ?it/s]"
      ]
     },
     "metadata": {},
     "output_type": "display_data"
    },
    {
     "data": {
      "application/vnd.jupyter.widget-view+json": {
       "model_id": "031135c452bc47ba9bb550d7cc0d33fe",
       "version_major": 2,
       "version_minor": 0
      },
      "text/plain": [
       "  0%|          | 0/843 [00:00<?, ?it/s]"
      ]
     },
     "metadata": {},
     "output_type": "display_data"
    },
    {
     "data": {
      "application/vnd.jupyter.widget-view+json": {
       "model_id": "2e75b5129c0d41528a213a1f8cc85d69",
       "version_major": 2,
       "version_minor": 0
      },
      "text/plain": [
       "  0%|          | 0/843 [00:00<?, ?it/s]"
      ]
     },
     "metadata": {},
     "output_type": "display_data"
    },
    {
     "data": {
      "application/vnd.jupyter.widget-view+json": {
       "model_id": "a68f49ac5dc847fdb5422b722af3e000",
       "version_major": 2,
       "version_minor": 0
      },
      "text/plain": [
       "  0%|          | 0/843 [00:00<?, ?it/s]"
      ]
     },
     "metadata": {},
     "output_type": "display_data"
    },
    {
     "data": {
      "application/vnd.jupyter.widget-view+json": {
       "model_id": "4d520b25809a49a28254bc7daa01ef2f",
       "version_major": 2,
       "version_minor": 0
      },
      "text/plain": [
       "  0%|          | 0/843 [00:00<?, ?it/s]"
      ]
     },
     "metadata": {},
     "output_type": "display_data"
    },
    {
     "data": {
      "application/vnd.jupyter.widget-view+json": {
       "model_id": "13087e1f55e74d3a950342d1923131f0",
       "version_major": 2,
       "version_minor": 0
      },
      "text/plain": [
       "  0%|          | 0/843 [00:00<?, ?it/s]"
      ]
     },
     "metadata": {},
     "output_type": "display_data"
    },
    {
     "data": {
      "application/vnd.jupyter.widget-view+json": {
       "model_id": "02fdcd6113c1442a93da13bcfbd60264",
       "version_major": 2,
       "version_minor": 0
      },
      "text/plain": [
       "  0%|          | 0/843 [00:00<?, ?it/s]"
      ]
     },
     "metadata": {},
     "output_type": "display_data"
    },
    {
     "data": {
      "application/vnd.jupyter.widget-view+json": {
       "model_id": "b7c22c4065c644d3957b076c6ca15553",
       "version_major": 2,
       "version_minor": 0
      },
      "text/plain": [
       "  0%|          | 0/843 [00:00<?, ?it/s]"
      ]
     },
     "metadata": {},
     "output_type": "display_data"
    },
    {
     "data": {
      "application/vnd.jupyter.widget-view+json": {
       "model_id": "20ff06640dc34520a5934a7a9a829921",
       "version_major": 2,
       "version_minor": 0
      },
      "text/plain": [
       "  0%|          | 0/843 [00:00<?, ?it/s]"
      ]
     },
     "metadata": {},
     "output_type": "display_data"
    },
    {
     "data": {
      "application/vnd.jupyter.widget-view+json": {
       "model_id": "58d3d0880e38406b8a1676e1d0a89f8b",
       "version_major": 2,
       "version_minor": 0
      },
      "text/plain": [
       "  0%|          | 0/843 [00:00<?, ?it/s]"
      ]
     },
     "metadata": {},
     "output_type": "display_data"
    },
    {
     "data": {
      "application/vnd.jupyter.widget-view+json": {
       "model_id": "92aa1e3b041a4b389ecbbc0852e82a47",
       "version_major": 2,
       "version_minor": 0
      },
      "text/plain": [
       "  0%|          | 0/843 [00:00<?, ?it/s]"
      ]
     },
     "metadata": {},
     "output_type": "display_data"
    },
    {
     "data": {
      "application/vnd.jupyter.widget-view+json": {
       "model_id": "eed2f8cdde104a778f6f99b7553ef37f",
       "version_major": 2,
       "version_minor": 0
      },
      "text/plain": [
       "  0%|          | 0/843 [00:00<?, ?it/s]"
      ]
     },
     "metadata": {},
     "output_type": "display_data"
    },
    {
     "data": {
      "application/vnd.jupyter.widget-view+json": {
       "model_id": "ea1f336413224d27aa42ab4542ecd3f1",
       "version_major": 2,
       "version_minor": 0
      },
      "text/plain": [
       "  0%|          | 0/843 [00:00<?, ?it/s]"
      ]
     },
     "metadata": {},
     "output_type": "display_data"
    },
    {
     "data": {
      "application/vnd.jupyter.widget-view+json": {
       "model_id": "fc88e605df6e49c7955f54522d8c07bb",
       "version_major": 2,
       "version_minor": 0
      },
      "text/plain": [
       "  0%|          | 0/843 [00:00<?, ?it/s]"
      ]
     },
     "metadata": {},
     "output_type": "display_data"
    },
    {
     "data": {
      "application/vnd.jupyter.widget-view+json": {
       "model_id": "288807d606624cb6ad6664f27e1fa694",
       "version_major": 2,
       "version_minor": 0
      },
      "text/plain": [
       "  0%|          | 0/843 [00:00<?, ?it/s]"
      ]
     },
     "metadata": {},
     "output_type": "display_data"
    },
    {
     "data": {
      "application/vnd.jupyter.widget-view+json": {
       "model_id": "255abee121f0441ca2b3e7b8122e12a0",
       "version_major": 2,
       "version_minor": 0
      },
      "text/plain": [
       "  0%|          | 0/843 [00:00<?, ?it/s]"
      ]
     },
     "metadata": {},
     "output_type": "display_data"
    },
    {
     "data": {
      "application/vnd.jupyter.widget-view+json": {
       "model_id": "95f44e0ab4ea4cc3b9144cf72a764995",
       "version_major": 2,
       "version_minor": 0
      },
      "text/plain": [
       "  0%|          | 0/843 [00:00<?, ?it/s]"
      ]
     },
     "metadata": {},
     "output_type": "display_data"
    },
    {
     "data": {
      "application/vnd.jupyter.widget-view+json": {
       "model_id": "1e15f1386db54fdd8c2a1c1839d4d45e",
       "version_major": 2,
       "version_minor": 0
      },
      "text/plain": [
       "  0%|          | 0/843 [00:00<?, ?it/s]"
      ]
     },
     "metadata": {},
     "output_type": "display_data"
    },
    {
     "data": {
      "application/vnd.jupyter.widget-view+json": {
       "model_id": "fb5f97ab6b3f4504a41e92bddffa180e",
       "version_major": 2,
       "version_minor": 0
      },
      "text/plain": [
       "  0%|          | 0/843 [00:00<?, ?it/s]"
      ]
     },
     "metadata": {},
     "output_type": "display_data"
    },
    {
     "data": {
      "application/vnd.jupyter.widget-view+json": {
       "model_id": "420097b8648b4f57a87b2f4bd3a3131e",
       "version_major": 2,
       "version_minor": 0
      },
      "text/plain": [
       "  0%|          | 0/843 [00:00<?, ?it/s]"
      ]
     },
     "metadata": {},
     "output_type": "display_data"
    },
    {
     "data": {
      "application/vnd.jupyter.widget-view+json": {
       "model_id": "534584c6b89a4a47993feea3706548e4",
       "version_major": 2,
       "version_minor": 0
      },
      "text/plain": [
       "  0%|          | 0/843 [00:00<?, ?it/s]"
      ]
     },
     "metadata": {},
     "output_type": "display_data"
    },
    {
     "data": {
      "application/vnd.jupyter.widget-view+json": {
       "model_id": "3d8ee8b4aebf484485adeb76bc608c08",
       "version_major": 2,
       "version_minor": 0
      },
      "text/plain": [
       "  0%|          | 0/843 [00:00<?, ?it/s]"
      ]
     },
     "metadata": {},
     "output_type": "display_data"
    },
    {
     "data": {
      "application/vnd.jupyter.widget-view+json": {
       "model_id": "7493a82dbd864e04adfa42e4458ef218",
       "version_major": 2,
       "version_minor": 0
      },
      "text/plain": [
       "  0%|          | 0/843 [00:00<?, ?it/s]"
      ]
     },
     "metadata": {},
     "output_type": "display_data"
    },
    {
     "data": {
      "application/vnd.jupyter.widget-view+json": {
       "model_id": "d4ec2e778fee4c659af372eb54f09efd",
       "version_major": 2,
       "version_minor": 0
      },
      "text/plain": [
       "  0%|          | 0/843 [00:00<?, ?it/s]"
      ]
     },
     "metadata": {},
     "output_type": "display_data"
    },
    {
     "data": {
      "application/vnd.jupyter.widget-view+json": {
       "model_id": "6d335ca2a44c4bf08aafacc55a2ebebb",
       "version_major": 2,
       "version_minor": 0
      },
      "text/plain": [
       "  0%|          | 0/843 [00:00<?, ?it/s]"
      ]
     },
     "metadata": {},
     "output_type": "display_data"
    },
    {
     "data": {
      "application/vnd.jupyter.widget-view+json": {
       "model_id": "25d0d3d04b674e6a912b3f92f7640555",
       "version_major": 2,
       "version_minor": 0
      },
      "text/plain": [
       "  0%|          | 0/843 [00:00<?, ?it/s]"
      ]
     },
     "metadata": {},
     "output_type": "display_data"
    },
    {
     "data": {
      "application/vnd.jupyter.widget-view+json": {
       "model_id": "88c6821ade57484d9aa5907846465a8d",
       "version_major": 2,
       "version_minor": 0
      },
      "text/plain": [
       "  0%|          | 0/843 [00:00<?, ?it/s]"
      ]
     },
     "metadata": {},
     "output_type": "display_data"
    },
    {
     "data": {
      "application/vnd.jupyter.widget-view+json": {
       "model_id": "7b1146cc4c3e42929a83b774a46526d6",
       "version_major": 2,
       "version_minor": 0
      },
      "text/plain": [
       "  0%|          | 0/843 [00:00<?, ?it/s]"
      ]
     },
     "metadata": {},
     "output_type": "display_data"
    },
    {
     "data": {
      "application/vnd.jupyter.widget-view+json": {
       "model_id": "d2d68f36ad5d4582b17b46a856a340be",
       "version_major": 2,
       "version_minor": 0
      },
      "text/plain": [
       "  0%|          | 0/843 [00:00<?, ?it/s]"
      ]
     },
     "metadata": {},
     "output_type": "display_data"
    },
    {
     "data": {
      "application/vnd.jupyter.widget-view+json": {
       "model_id": "ccc808e49355417eb7d3933d8f44800c",
       "version_major": 2,
       "version_minor": 0
      },
      "text/plain": [
       "  0%|          | 0/843 [00:00<?, ?it/s]"
      ]
     },
     "metadata": {},
     "output_type": "display_data"
    },
    {
     "data": {
      "application/vnd.jupyter.widget-view+json": {
       "model_id": "01fdd61fe6724384ababb5e9d80df921",
       "version_major": 2,
       "version_minor": 0
      },
      "text/plain": [
       "  0%|          | 0/843 [00:00<?, ?it/s]"
      ]
     },
     "metadata": {},
     "output_type": "display_data"
    },
    {
     "data": {
      "application/vnd.jupyter.widget-view+json": {
       "model_id": "d37a3300590749ed812891b1cc4020a9",
       "version_major": 2,
       "version_minor": 0
      },
      "text/plain": [
       "  0%|          | 0/843 [00:00<?, ?it/s]"
      ]
     },
     "metadata": {},
     "output_type": "display_data"
    },
    {
     "data": {
      "application/vnd.jupyter.widget-view+json": {
       "model_id": "5f80fa1432244824967bb02204a83887",
       "version_major": 2,
       "version_minor": 0
      },
      "text/plain": [
       "  0%|          | 0/843 [00:00<?, ?it/s]"
      ]
     },
     "metadata": {},
     "output_type": "display_data"
    },
    {
     "data": {
      "application/vnd.jupyter.widget-view+json": {
       "model_id": "a56951da4ab34db08fe8a1c7f68be82c",
       "version_major": 2,
       "version_minor": 0
      },
      "text/plain": [
       "  0%|          | 0/843 [00:00<?, ?it/s]"
      ]
     },
     "metadata": {},
     "output_type": "display_data"
    },
    {
     "data": {
      "application/vnd.jupyter.widget-view+json": {
       "model_id": "2057c92fc1c443a79f79d8c389dc2ec6",
       "version_major": 2,
       "version_minor": 0
      },
      "text/plain": [
       "  0%|          | 0/843 [00:00<?, ?it/s]"
      ]
     },
     "metadata": {},
     "output_type": "display_data"
    },
    {
     "data": {
      "application/vnd.jupyter.widget-view+json": {
       "model_id": "1c0dd86ed29a4d11ba4338c57a442535",
       "version_major": 2,
       "version_minor": 0
      },
      "text/plain": [
       "  0%|          | 0/843 [00:00<?, ?it/s]"
      ]
     },
     "metadata": {},
     "output_type": "display_data"
    },
    {
     "data": {
      "application/vnd.jupyter.widget-view+json": {
       "model_id": "b2f42e1ea95f4c068829d6681f26d97d",
       "version_major": 2,
       "version_minor": 0
      },
      "text/plain": [
       "  0%|          | 0/843 [00:00<?, ?it/s]"
      ]
     },
     "metadata": {},
     "output_type": "display_data"
    },
    {
     "data": {
      "application/vnd.jupyter.widget-view+json": {
       "model_id": "8994898a4eac436fb185e7814ebb7708",
       "version_major": 2,
       "version_minor": 0
      },
      "text/plain": [
       "  0%|          | 0/843 [00:00<?, ?it/s]"
      ]
     },
     "metadata": {},
     "output_type": "display_data"
    },
    {
     "data": {
      "application/vnd.jupyter.widget-view+json": {
       "model_id": "09db94cedbe745e4aff2562f1877c6b5",
       "version_major": 2,
       "version_minor": 0
      },
      "text/plain": [
       "  0%|          | 0/843 [00:00<?, ?it/s]"
      ]
     },
     "metadata": {},
     "output_type": "display_data"
    },
    {
     "data": {
      "application/vnd.jupyter.widget-view+json": {
       "model_id": "487f4768762c40db936a3b76da664dfd",
       "version_major": 2,
       "version_minor": 0
      },
      "text/plain": [
       "  0%|          | 0/843 [00:00<?, ?it/s]"
      ]
     },
     "metadata": {},
     "output_type": "display_data"
    },
    {
     "data": {
      "application/vnd.jupyter.widget-view+json": {
       "model_id": "2f7b3c2b467d485da743101695a9e249",
       "version_major": 2,
       "version_minor": 0
      },
      "text/plain": [
       "  0%|          | 0/843 [00:00<?, ?it/s]"
      ]
     },
     "metadata": {},
     "output_type": "display_data"
    },
    {
     "data": {
      "application/vnd.jupyter.widget-view+json": {
       "model_id": "c14abf170359463ebbc46aa1926e8045",
       "version_major": 2,
       "version_minor": 0
      },
      "text/plain": [
       "  0%|          | 0/843 [00:00<?, ?it/s]"
      ]
     },
     "metadata": {},
     "output_type": "display_data"
    },
    {
     "data": {
      "application/vnd.jupyter.widget-view+json": {
       "model_id": "7d0c5870150b43898dde1326865917b4",
       "version_major": 2,
       "version_minor": 0
      },
      "text/plain": [
       "  0%|          | 0/843 [00:00<?, ?it/s]"
      ]
     },
     "metadata": {},
     "output_type": "display_data"
    },
    {
     "data": {
      "application/vnd.jupyter.widget-view+json": {
       "model_id": "0a8a957887ae4ccdae57f1740f27003e",
       "version_major": 2,
       "version_minor": 0
      },
      "text/plain": [
       "  0%|          | 0/843 [00:00<?, ?it/s]"
      ]
     },
     "metadata": {},
     "output_type": "display_data"
    },
    {
     "data": {
      "application/vnd.jupyter.widget-view+json": {
       "model_id": "277841f0d2c44a86a43ca6d6f40d7afd",
       "version_major": 2,
       "version_minor": 0
      },
      "text/plain": [
       "  0%|          | 0/843 [00:00<?, ?it/s]"
      ]
     },
     "metadata": {},
     "output_type": "display_data"
    },
    {
     "data": {
      "application/vnd.jupyter.widget-view+json": {
       "model_id": "1f2e3de1d1e94c7a999ad992ceafdc4c",
       "version_major": 2,
       "version_minor": 0
      },
      "text/plain": [
       "  0%|          | 0/843 [00:00<?, ?it/s]"
      ]
     },
     "metadata": {},
     "output_type": "display_data"
    },
    {
     "data": {
      "application/vnd.jupyter.widget-view+json": {
       "model_id": "13eb357f101d41fd90daee6179ce4802",
       "version_major": 2,
       "version_minor": 0
      },
      "text/plain": [
       "  0%|          | 0/843 [00:00<?, ?it/s]"
      ]
     },
     "metadata": {},
     "output_type": "display_data"
    },
    {
     "data": {
      "application/vnd.jupyter.widget-view+json": {
       "model_id": "001a79bce10a4aaeab7f61d0021672cd",
       "version_major": 2,
       "version_minor": 0
      },
      "text/plain": [
       "  0%|          | 0/843 [00:00<?, ?it/s]"
      ]
     },
     "metadata": {},
     "output_type": "display_data"
    },
    {
     "data": {
      "application/vnd.jupyter.widget-view+json": {
       "model_id": "b950a5885c39491fb2538c970649f140",
       "version_major": 2,
       "version_minor": 0
      },
      "text/plain": [
       "  0%|          | 0/843 [00:00<?, ?it/s]"
      ]
     },
     "metadata": {},
     "output_type": "display_data"
    },
    {
     "data": {
      "application/vnd.jupyter.widget-view+json": {
       "model_id": "ef5ca397c12b425f9cb7908a3ebbe81e",
       "version_major": 2,
       "version_minor": 0
      },
      "text/plain": [
       "  0%|          | 0/843 [00:00<?, ?it/s]"
      ]
     },
     "metadata": {},
     "output_type": "display_data"
    },
    {
     "data": {
      "application/vnd.jupyter.widget-view+json": {
       "model_id": "63d7463c41e44d3eb627f8c485223c0d",
       "version_major": 2,
       "version_minor": 0
      },
      "text/plain": [
       "  0%|          | 0/843 [00:00<?, ?it/s]"
      ]
     },
     "metadata": {},
     "output_type": "display_data"
    },
    {
     "data": {
      "application/vnd.jupyter.widget-view+json": {
       "model_id": "9c03f544ef0b49839aad9e1b120896eb",
       "version_major": 2,
       "version_minor": 0
      },
      "text/plain": [
       "  0%|          | 0/843 [00:00<?, ?it/s]"
      ]
     },
     "metadata": {},
     "output_type": "display_data"
    },
    {
     "data": {
      "application/vnd.jupyter.widget-view+json": {
       "model_id": "b040db29003a41bc9e9e02cada97e748",
       "version_major": 2,
       "version_minor": 0
      },
      "text/plain": [
       "  0%|          | 0/843 [00:00<?, ?it/s]"
      ]
     },
     "metadata": {},
     "output_type": "display_data"
    },
    {
     "data": {
      "application/vnd.jupyter.widget-view+json": {
       "model_id": "792aa1a92dfe4b1c99ad259e8742a409",
       "version_major": 2,
       "version_minor": 0
      },
      "text/plain": [
       "  0%|          | 0/843 [00:00<?, ?it/s]"
      ]
     },
     "metadata": {},
     "output_type": "display_data"
    },
    {
     "data": {
      "application/vnd.jupyter.widget-view+json": {
       "model_id": "a8817f085c9a4d68a94e930dead86743",
       "version_major": 2,
       "version_minor": 0
      },
      "text/plain": [
       "  0%|          | 0/843 [00:00<?, ?it/s]"
      ]
     },
     "metadata": {},
     "output_type": "display_data"
    },
    {
     "data": {
      "application/vnd.jupyter.widget-view+json": {
       "model_id": "9296fcef89fc43a99d0a089aaaf69c0a",
       "version_major": 2,
       "version_minor": 0
      },
      "text/plain": [
       "  0%|          | 0/843 [00:00<?, ?it/s]"
      ]
     },
     "metadata": {},
     "output_type": "display_data"
    },
    {
     "data": {
      "application/vnd.jupyter.widget-view+json": {
       "model_id": "56fb6055c1134dcbb8c75ebb9eefa919",
       "version_major": 2,
       "version_minor": 0
      },
      "text/plain": [
       "  0%|          | 0/843 [00:00<?, ?it/s]"
      ]
     },
     "metadata": {},
     "output_type": "display_data"
    },
    {
     "data": {
      "application/vnd.jupyter.widget-view+json": {
       "model_id": "12a6378f544d404da5ed4f56959272f9",
       "version_major": 2,
       "version_minor": 0
      },
      "text/plain": [
       "  0%|          | 0/843 [00:00<?, ?it/s]"
      ]
     },
     "metadata": {},
     "output_type": "display_data"
    },
    {
     "data": {
      "application/vnd.jupyter.widget-view+json": {
       "model_id": "468be83a4ad94ed68324e11608634159",
       "version_major": 2,
       "version_minor": 0
      },
      "text/plain": [
       "  0%|          | 0/843 [00:00<?, ?it/s]"
      ]
     },
     "metadata": {},
     "output_type": "display_data"
    },
    {
     "data": {
      "application/vnd.jupyter.widget-view+json": {
       "model_id": "30fc66d6b2924309838cc3d55b77d34b",
       "version_major": 2,
       "version_minor": 0
      },
      "text/plain": [
       "  0%|          | 0/843 [00:00<?, ?it/s]"
      ]
     },
     "metadata": {},
     "output_type": "display_data"
    },
    {
     "data": {
      "application/vnd.jupyter.widget-view+json": {
       "model_id": "3542591cdfa0477fadd6247be0f7f186",
       "version_major": 2,
       "version_minor": 0
      },
      "text/plain": [
       "  0%|          | 0/843 [00:00<?, ?it/s]"
      ]
     },
     "metadata": {},
     "output_type": "display_data"
    },
    {
     "data": {
      "application/vnd.jupyter.widget-view+json": {
       "model_id": "2ba3588e18bf40a9b5e3831c08943e1d",
       "version_major": 2,
       "version_minor": 0
      },
      "text/plain": [
       "  0%|          | 0/843 [00:00<?, ?it/s]"
      ]
     },
     "metadata": {},
     "output_type": "display_data"
    },
    {
     "data": {
      "application/vnd.jupyter.widget-view+json": {
       "model_id": "2b6d113fc6bb4234b74989dd28d68f40",
       "version_major": 2,
       "version_minor": 0
      },
      "text/plain": [
       "  0%|          | 0/843 [00:00<?, ?it/s]"
      ]
     },
     "metadata": {},
     "output_type": "display_data"
    },
    {
     "data": {
      "application/vnd.jupyter.widget-view+json": {
       "model_id": "50cc26c566b343d29402e334be1fe7e4",
       "version_major": 2,
       "version_minor": 0
      },
      "text/plain": [
       "  0%|          | 0/843 [00:00<?, ?it/s]"
      ]
     },
     "metadata": {},
     "output_type": "display_data"
    },
    {
     "data": {
      "application/vnd.jupyter.widget-view+json": {
       "model_id": "79b3d668fbd34977ab4c370e031fe02d",
       "version_major": 2,
       "version_minor": 0
      },
      "text/plain": [
       "  0%|          | 0/843 [00:00<?, ?it/s]"
      ]
     },
     "metadata": {},
     "output_type": "display_data"
    },
    {
     "data": {
      "application/vnd.jupyter.widget-view+json": {
       "model_id": "acf2faff91b1413e99753f7075f92d19",
       "version_major": 2,
       "version_minor": 0
      },
      "text/plain": [
       "  0%|          | 0/843 [00:00<?, ?it/s]"
      ]
     },
     "metadata": {},
     "output_type": "display_data"
    },
    {
     "data": {
      "application/vnd.jupyter.widget-view+json": {
       "model_id": "cdd118a53e114012a501ed59ed37907a",
       "version_major": 2,
       "version_minor": 0
      },
      "text/plain": [
       "  0%|          | 0/843 [00:00<?, ?it/s]"
      ]
     },
     "metadata": {},
     "output_type": "display_data"
    },
    {
     "data": {
      "application/vnd.jupyter.widget-view+json": {
       "model_id": "d21224ccf348401fa6b7126a3b63a414",
       "version_major": 2,
       "version_minor": 0
      },
      "text/plain": [
       "  0%|          | 0/843 [00:00<?, ?it/s]"
      ]
     },
     "metadata": {},
     "output_type": "display_data"
    },
    {
     "data": {
      "application/vnd.jupyter.widget-view+json": {
       "model_id": "dfbeba7b0c264807a69e486b596bbf2b",
       "version_major": 2,
       "version_minor": 0
      },
      "text/plain": [
       "  0%|          | 0/843 [00:00<?, ?it/s]"
      ]
     },
     "metadata": {},
     "output_type": "display_data"
    },
    {
     "data": {
      "application/vnd.jupyter.widget-view+json": {
       "model_id": "cf5b9219c7ca41eb8a9da21dc97fdfc7",
       "version_major": 2,
       "version_minor": 0
      },
      "text/plain": [
       "  0%|          | 0/843 [00:00<?, ?it/s]"
      ]
     },
     "metadata": {},
     "output_type": "display_data"
    },
    {
     "data": {
      "application/vnd.jupyter.widget-view+json": {
       "model_id": "e10bda60a8c645d5a6fb95c504b807da",
       "version_major": 2,
       "version_minor": 0
      },
      "text/plain": [
       "  0%|          | 0/843 [00:00<?, ?it/s]"
      ]
     },
     "metadata": {},
     "output_type": "display_data"
    },
    {
     "data": {
      "application/vnd.jupyter.widget-view+json": {
       "model_id": "02454f555bf5427cb6f5620a98d9b22e",
       "version_major": 2,
       "version_minor": 0
      },
      "text/plain": [
       "  0%|          | 0/843 [00:00<?, ?it/s]"
      ]
     },
     "metadata": {},
     "output_type": "display_data"
    },
    {
     "data": {
      "application/vnd.jupyter.widget-view+json": {
       "model_id": "c13c73bb6f7341838c6cc3f2950a6c7e",
       "version_major": 2,
       "version_minor": 0
      },
      "text/plain": [
       "  0%|          | 0/843 [00:00<?, ?it/s]"
      ]
     },
     "metadata": {},
     "output_type": "display_data"
    },
    {
     "data": {
      "application/vnd.jupyter.widget-view+json": {
       "model_id": "38fd1f68d1074e10a36e9630b11b6186",
       "version_major": 2,
       "version_minor": 0
      },
      "text/plain": [
       "  0%|          | 0/843 [00:00<?, ?it/s]"
      ]
     },
     "metadata": {},
     "output_type": "display_data"
    },
    {
     "data": {
      "application/vnd.jupyter.widget-view+json": {
       "model_id": "26798404cdf947e0869fb00746c1d01d",
       "version_major": 2,
       "version_minor": 0
      },
      "text/plain": [
       "  0%|          | 0/843 [00:00<?, ?it/s]"
      ]
     },
     "metadata": {},
     "output_type": "display_data"
    },
    {
     "data": {
      "application/vnd.jupyter.widget-view+json": {
       "model_id": "206f5d10378c46e08fe6733811ebb5c5",
       "version_major": 2,
       "version_minor": 0
      },
      "text/plain": [
       "  0%|          | 0/843 [00:00<?, ?it/s]"
      ]
     },
     "metadata": {},
     "output_type": "display_data"
    },
    {
     "data": {
      "application/vnd.jupyter.widget-view+json": {
       "model_id": "376a2674b8d94d0a96964c2b30eb3139",
       "version_major": 2,
       "version_minor": 0
      },
      "text/plain": [
       "  0%|          | 0/843 [00:00<?, ?it/s]"
      ]
     },
     "metadata": {},
     "output_type": "display_data"
    },
    {
     "data": {
      "application/vnd.jupyter.widget-view+json": {
       "model_id": "61f6b7654a3a40e4b9edbbe5b768cb28",
       "version_major": 2,
       "version_minor": 0
      },
      "text/plain": [
       "  0%|          | 0/843 [00:00<?, ?it/s]"
      ]
     },
     "metadata": {},
     "output_type": "display_data"
    },
    {
     "data": {
      "application/vnd.jupyter.widget-view+json": {
       "model_id": "b6193108ea6f412d9d944de96a30243a",
       "version_major": 2,
       "version_minor": 0
      },
      "text/plain": [
       "  0%|          | 0/843 [00:00<?, ?it/s]"
      ]
     },
     "metadata": {},
     "output_type": "display_data"
    },
    {
     "data": {
      "application/vnd.jupyter.widget-view+json": {
       "model_id": "1dca476804be4af89c0b89e72f9cd833",
       "version_major": 2,
       "version_minor": 0
      },
      "text/plain": [
       "  0%|          | 0/843 [00:00<?, ?it/s]"
      ]
     },
     "metadata": {},
     "output_type": "display_data"
    },
    {
     "data": {
      "application/vnd.jupyter.widget-view+json": {
       "model_id": "dee823160cb8450d9d3d99ab512e3c21",
       "version_major": 2,
       "version_minor": 0
      },
      "text/plain": [
       "  0%|          | 0/843 [00:00<?, ?it/s]"
      ]
     },
     "metadata": {},
     "output_type": "display_data"
    },
    {
     "data": {
      "application/vnd.jupyter.widget-view+json": {
       "model_id": "932c5915d6974d87b189652f0633636e",
       "version_major": 2,
       "version_minor": 0
      },
      "text/plain": [
       "  0%|          | 0/843 [00:00<?, ?it/s]"
      ]
     },
     "metadata": {},
     "output_type": "display_data"
    },
    {
     "data": {
      "application/vnd.jupyter.widget-view+json": {
       "model_id": "0298c77113e8454a925332515bfd6f4b",
       "version_major": 2,
       "version_minor": 0
      },
      "text/plain": [
       "  0%|          | 0/843 [00:00<?, ?it/s]"
      ]
     },
     "metadata": {},
     "output_type": "display_data"
    },
    {
     "data": {
      "application/vnd.jupyter.widget-view+json": {
       "model_id": "af2aa37f66014d41a746bc11fa4cf391",
       "version_major": 2,
       "version_minor": 0
      },
      "text/plain": [
       "  0%|          | 0/843 [00:00<?, ?it/s]"
      ]
     },
     "metadata": {},
     "output_type": "display_data"
    },
    {
     "data": {
      "application/vnd.jupyter.widget-view+json": {
       "model_id": "eea300e412dc4b49bcaad5149129785a",
       "version_major": 2,
       "version_minor": 0
      },
      "text/plain": [
       "  0%|          | 0/843 [00:00<?, ?it/s]"
      ]
     },
     "metadata": {},
     "output_type": "display_data"
    },
    {
     "data": {
      "application/vnd.jupyter.widget-view+json": {
       "model_id": "bf797b3870244ff59d5ba09265f14888",
       "version_major": 2,
       "version_minor": 0
      },
      "text/plain": [
       "  0%|          | 0/843 [00:00<?, ?it/s]"
      ]
     },
     "metadata": {},
     "output_type": "display_data"
    },
    {
     "data": {
      "application/vnd.jupyter.widget-view+json": {
       "model_id": "8cf12bc7c76a4c1685d2cb8901d75b61",
       "version_major": 2,
       "version_minor": 0
      },
      "text/plain": [
       "  0%|          | 0/843 [00:00<?, ?it/s]"
      ]
     },
     "metadata": {},
     "output_type": "display_data"
    },
    {
     "data": {
      "application/vnd.jupyter.widget-view+json": {
       "model_id": "346a064a5d3546fcbdc3b72294bb61d9",
       "version_major": 2,
       "version_minor": 0
      },
      "text/plain": [
       "  0%|          | 0/843 [00:00<?, ?it/s]"
      ]
     },
     "metadata": {},
     "output_type": "display_data"
    },
    {
     "data": {
      "application/vnd.jupyter.widget-view+json": {
       "model_id": "3bef7713ec6d41a2b08c678eb104e766",
       "version_major": 2,
       "version_minor": 0
      },
      "text/plain": [
       "  0%|          | 0/843 [00:00<?, ?it/s]"
      ]
     },
     "metadata": {},
     "output_type": "display_data"
    },
    {
     "data": {
      "application/vnd.jupyter.widget-view+json": {
       "model_id": "35de47c5482642deb324bdd8ac4d173f",
       "version_major": 2,
       "version_minor": 0
      },
      "text/plain": [
       "  0%|          | 0/843 [00:00<?, ?it/s]"
      ]
     },
     "metadata": {},
     "output_type": "display_data"
    },
    {
     "data": {
      "application/vnd.jupyter.widget-view+json": {
       "model_id": "545b54c233be45feaf481edd2dbf7218",
       "version_major": 2,
       "version_minor": 0
      },
      "text/plain": [
       "  0%|          | 0/843 [00:00<?, ?it/s]"
      ]
     },
     "metadata": {},
     "output_type": "display_data"
    },
    {
     "data": {
      "application/vnd.jupyter.widget-view+json": {
       "model_id": "bbffae2b911347a88add277ff3581328",
       "version_major": 2,
       "version_minor": 0
      },
      "text/plain": [
       "  0%|          | 0/843 [00:00<?, ?it/s]"
      ]
     },
     "metadata": {},
     "output_type": "display_data"
    },
    {
     "data": {
      "application/vnd.jupyter.widget-view+json": {
       "model_id": "17dee6d7f5cb422aabb4db853dcb5380",
       "version_major": 2,
       "version_minor": 0
      },
      "text/plain": [
       "  0%|          | 0/843 [00:00<?, ?it/s]"
      ]
     },
     "metadata": {},
     "output_type": "display_data"
    },
    {
     "data": {
      "application/vnd.jupyter.widget-view+json": {
       "model_id": "ebd375d1ddbc4d5ba0b77cf393efdeeb",
       "version_major": 2,
       "version_minor": 0
      },
      "text/plain": [
       "  0%|          | 0/843 [00:00<?, ?it/s]"
      ]
     },
     "metadata": {},
     "output_type": "display_data"
    },
    {
     "data": {
      "application/vnd.jupyter.widget-view+json": {
       "model_id": "24885be8ab014ed8b476ad5c4a61bc83",
       "version_major": 2,
       "version_minor": 0
      },
      "text/plain": [
       "  0%|          | 0/843 [00:00<?, ?it/s]"
      ]
     },
     "metadata": {},
     "output_type": "display_data"
    },
    {
     "data": {
      "application/vnd.jupyter.widget-view+json": {
       "model_id": "e73bbbfee0784f30acfcaf4d454aca5a",
       "version_major": 2,
       "version_minor": 0
      },
      "text/plain": [
       "  0%|          | 0/843 [00:00<?, ?it/s]"
      ]
     },
     "metadata": {},
     "output_type": "display_data"
    },
    {
     "data": {
      "application/vnd.jupyter.widget-view+json": {
       "model_id": "3f4f998b03eb407f80598846f17b2dcb",
       "version_major": 2,
       "version_minor": 0
      },
      "text/plain": [
       "  0%|          | 0/843 [00:00<?, ?it/s]"
      ]
     },
     "metadata": {},
     "output_type": "display_data"
    },
    {
     "data": {
      "application/vnd.jupyter.widget-view+json": {
       "model_id": "ef8531064a5e48ec8000d0a6ac71bc05",
       "version_major": 2,
       "version_minor": 0
      },
      "text/plain": [
       "  0%|          | 0/843 [00:00<?, ?it/s]"
      ]
     },
     "metadata": {},
     "output_type": "display_data"
    },
    {
     "data": {
      "application/vnd.jupyter.widget-view+json": {
       "model_id": "88d8ffe62fdc48a0a6d77db092f51276",
       "version_major": 2,
       "version_minor": 0
      },
      "text/plain": [
       "  0%|          | 0/843 [00:00<?, ?it/s]"
      ]
     },
     "metadata": {},
     "output_type": "display_data"
    },
    {
     "data": {
      "application/vnd.jupyter.widget-view+json": {
       "model_id": "87e794e700de4186b4d9c0db3dca9b83",
       "version_major": 2,
       "version_minor": 0
      },
      "text/plain": [
       "  0%|          | 0/843 [00:00<?, ?it/s]"
      ]
     },
     "metadata": {},
     "output_type": "display_data"
    },
    {
     "data": {
      "application/vnd.jupyter.widget-view+json": {
       "model_id": "eb195c0b85fe4780ba8c2b5cdd172dc7",
       "version_major": 2,
       "version_minor": 0
      },
      "text/plain": [
       "  0%|          | 0/843 [00:00<?, ?it/s]"
      ]
     },
     "metadata": {},
     "output_type": "display_data"
    },
    {
     "data": {
      "application/vnd.jupyter.widget-view+json": {
       "model_id": "0ed933a14e3740289811a8fc3bbf7f12",
       "version_major": 2,
       "version_minor": 0
      },
      "text/plain": [
       "  0%|          | 0/843 [00:00<?, ?it/s]"
      ]
     },
     "metadata": {},
     "output_type": "display_data"
    },
    {
     "data": {
      "application/vnd.jupyter.widget-view+json": {
       "model_id": "db604c0535a544a68bd13e50f3fc800e",
       "version_major": 2,
       "version_minor": 0
      },
      "text/plain": [
       "  0%|          | 0/843 [00:00<?, ?it/s]"
      ]
     },
     "metadata": {},
     "output_type": "display_data"
    },
    {
     "data": {
      "application/vnd.jupyter.widget-view+json": {
       "model_id": "0081c0d65c9543fe9b1437ad0048bd0c",
       "version_major": 2,
       "version_minor": 0
      },
      "text/plain": [
       "  0%|          | 0/843 [00:00<?, ?it/s]"
      ]
     },
     "metadata": {},
     "output_type": "display_data"
    },
    {
     "data": {
      "application/vnd.jupyter.widget-view+json": {
       "model_id": "f16147decf81458987dbb6d26b90d0a0",
       "version_major": 2,
       "version_minor": 0
      },
      "text/plain": [
       "  0%|          | 0/843 [00:00<?, ?it/s]"
      ]
     },
     "metadata": {},
     "output_type": "display_data"
    },
    {
     "data": {
      "application/vnd.jupyter.widget-view+json": {
       "model_id": "a5f268d10a8d4b5a942dbcad5f6821ed",
       "version_major": 2,
       "version_minor": 0
      },
      "text/plain": [
       "  0%|          | 0/843 [00:00<?, ?it/s]"
      ]
     },
     "metadata": {},
     "output_type": "display_data"
    },
    {
     "data": {
      "application/vnd.jupyter.widget-view+json": {
       "model_id": "ae09f2e0b8a34dd5bc98aa074612795a",
       "version_major": 2,
       "version_minor": 0
      },
      "text/plain": [
       "  0%|          | 0/843 [00:00<?, ?it/s]"
      ]
     },
     "metadata": {},
     "output_type": "display_data"
    },
    {
     "data": {
      "application/vnd.jupyter.widget-view+json": {
       "model_id": "b58688920f0c4143b1fcde0478c52b60",
       "version_major": 2,
       "version_minor": 0
      },
      "text/plain": [
       "  0%|          | 0/843 [00:00<?, ?it/s]"
      ]
     },
     "metadata": {},
     "output_type": "display_data"
    },
    {
     "data": {
      "application/vnd.jupyter.widget-view+json": {
       "model_id": "8ba5ddb1d03e4d7b9987c8423c869740",
       "version_major": 2,
       "version_minor": 0
      },
      "text/plain": [
       "  0%|          | 0/843 [00:00<?, ?it/s]"
      ]
     },
     "metadata": {},
     "output_type": "display_data"
    },
    {
     "data": {
      "application/vnd.jupyter.widget-view+json": {
       "model_id": "cc336e20a31646edac9b688f8103b50c",
       "version_major": 2,
       "version_minor": 0
      },
      "text/plain": [
       "  0%|          | 0/843 [00:00<?, ?it/s]"
      ]
     },
     "metadata": {},
     "output_type": "display_data"
    },
    {
     "data": {
      "application/vnd.jupyter.widget-view+json": {
       "model_id": "7f94d8bb56e4407085996790ae0705f8",
       "version_major": 2,
       "version_minor": 0
      },
      "text/plain": [
       "  0%|          | 0/843 [00:00<?, ?it/s]"
      ]
     },
     "metadata": {},
     "output_type": "display_data"
    },
    {
     "data": {
      "application/vnd.jupyter.widget-view+json": {
       "model_id": "98d81ad453a1487093014d97bef208d2",
       "version_major": 2,
       "version_minor": 0
      },
      "text/plain": [
       "  0%|          | 0/843 [00:00<?, ?it/s]"
      ]
     },
     "metadata": {},
     "output_type": "display_data"
    },
    {
     "data": {
      "application/vnd.jupyter.widget-view+json": {
       "model_id": "0202c35a9edd4b5893649224fd6bfc59",
       "version_major": 2,
       "version_minor": 0
      },
      "text/plain": [
       "  0%|          | 0/843 [00:00<?, ?it/s]"
      ]
     },
     "metadata": {},
     "output_type": "display_data"
    },
    {
     "data": {
      "application/vnd.jupyter.widget-view+json": {
       "model_id": "ebe9809466c44880afe60d512f522a63",
       "version_major": 2,
       "version_minor": 0
      },
      "text/plain": [
       "  0%|          | 0/843 [00:00<?, ?it/s]"
      ]
     },
     "metadata": {},
     "output_type": "display_data"
    },
    {
     "data": {
      "application/vnd.jupyter.widget-view+json": {
       "model_id": "4fb4e47a566648b98ca92bf1f33b9988",
       "version_major": 2,
       "version_minor": 0
      },
      "text/plain": [
       "  0%|          | 0/843 [00:00<?, ?it/s]"
      ]
     },
     "metadata": {},
     "output_type": "display_data"
    },
    {
     "data": {
      "application/vnd.jupyter.widget-view+json": {
       "model_id": "4d429d298a744119a662bbff0d18d906",
       "version_major": 2,
       "version_minor": 0
      },
      "text/plain": [
       "  0%|          | 0/843 [00:00<?, ?it/s]"
      ]
     },
     "metadata": {},
     "output_type": "display_data"
    },
    {
     "data": {
      "application/vnd.jupyter.widget-view+json": {
       "model_id": "d20232608ec546a0a7a78df294ffc892",
       "version_major": 2,
       "version_minor": 0
      },
      "text/plain": [
       "  0%|          | 0/843 [00:00<?, ?it/s]"
      ]
     },
     "metadata": {},
     "output_type": "display_data"
    },
    {
     "data": {
      "application/vnd.jupyter.widget-view+json": {
       "model_id": "2db9252dec244255a8ae30a2080e2652",
       "version_major": 2,
       "version_minor": 0
      },
      "text/plain": [
       "  0%|          | 0/843 [00:00<?, ?it/s]"
      ]
     },
     "metadata": {},
     "output_type": "display_data"
    },
    {
     "data": {
      "application/vnd.jupyter.widget-view+json": {
       "model_id": "e4e60d465e51437cb46f41bad831caac",
       "version_major": 2,
       "version_minor": 0
      },
      "text/plain": [
       "  0%|          | 0/843 [00:00<?, ?it/s]"
      ]
     },
     "metadata": {},
     "output_type": "display_data"
    },
    {
     "data": {
      "application/vnd.jupyter.widget-view+json": {
       "model_id": "e437bc8123c04bc8b9efcfbfb5394cea",
       "version_major": 2,
       "version_minor": 0
      },
      "text/plain": [
       "  0%|          | 0/843 [00:00<?, ?it/s]"
      ]
     },
     "metadata": {},
     "output_type": "display_data"
    },
    {
     "data": {
      "application/vnd.jupyter.widget-view+json": {
       "model_id": "455acd9476a44bac890c21acdf921740",
       "version_major": 2,
       "version_minor": 0
      },
      "text/plain": [
       "  0%|          | 0/843 [00:00<?, ?it/s]"
      ]
     },
     "metadata": {},
     "output_type": "display_data"
    },
    {
     "data": {
      "application/vnd.jupyter.widget-view+json": {
       "model_id": "c876508a66a34155a61d6d2b17ff9104",
       "version_major": 2,
       "version_minor": 0
      },
      "text/plain": [
       "  0%|          | 0/843 [00:00<?, ?it/s]"
      ]
     },
     "metadata": {},
     "output_type": "display_data"
    },
    {
     "data": {
      "application/vnd.jupyter.widget-view+json": {
       "model_id": "33bc4a86ff4c48da986c7d0ef378b6cb",
       "version_major": 2,
       "version_minor": 0
      },
      "text/plain": [
       "  0%|          | 0/843 [00:00<?, ?it/s]"
      ]
     },
     "metadata": {},
     "output_type": "display_data"
    },
    {
     "data": {
      "application/vnd.jupyter.widget-view+json": {
       "model_id": "1088c0d0f49d4ba58c39e1d210a7827a",
       "version_major": 2,
       "version_minor": 0
      },
      "text/plain": [
       "  0%|          | 0/843 [00:00<?, ?it/s]"
      ]
     },
     "metadata": {},
     "output_type": "display_data"
    }
   ],
   "source": [
    "output_dir = \"checkpoints\"\n",
    "os.makedirs(output_dir, exist_ok=True)\n",
    "\n",
    "writer = SummaryWriter(\"./runs/word_spotting\")\n",
    "progress_bar_train = tqdm(range(num_training_steps))\n",
    "#progress_bar_train.update(step_count)\n",
    "\n",
    "LOSS_SHOW_STEP = 500\n",
    "SAVE_STEP = 3_000\n",
    "EVAL_STEP = 3_000\n",
    "\n",
    "step_count = 0\n",
    "for epoch in range(num_epochs):\n",
    "    model.train()\n",
    "    dummy_model.train()\n",
    "\n",
    "    train_loss, train_known_loss, train_unknown_loss = [], [], []\n",
    "    for batch_x, batch_y in train_dataloader:\n",
    "        batch_x, batch_y = batch_x.to(device), batch_y.to(device)\n",
    "        \n",
    "        outputs = model(torch.unsqueeze(batch_x, 1))\n",
    "        \n",
    "        loss_known, loss_unknown = loss_fn(outputs, batch_y, N_WAY, N_SUPPORT, N_QUERY)\n",
    "        loss = LAMBDA * loss_known + loss_unknown\n",
    "        \n",
    "        train_loss.append(loss.item())\n",
    "        train_known_loss.append(loss_known.item())\n",
    "        train_unknown_loss.append(loss_unknown.item())\n",
    "\n",
    "        loss.backward()\n",
    "        optimizer.step()\n",
    "        #lr_scheduler.step()\n",
    "        optimizer.zero_grad()\n",
    "        progress_bar_train.update(1)\n",
    "\n",
    "\n",
    "        step_count += 1\n",
    "        if (step_count % LOSS_SHOW_STEP == 0):\n",
    "            writer.add_scalar('Loss/Train', np.mean(train_loss), step_count)\n",
    "            writer.add_scalar('Loss/Train_Known', np.mean(train_known_loss), step_count)\n",
    "            writer.add_scalar('Loss/Train_Unknown', np.mean(train_unknown_loss), step_count)\n",
    "            train_loss, train_known_loss, train_unknown_loss = [], [], []\n",
    "\n",
    "\n",
    "        if (step_count % SAVE_STEP == 0):\n",
    "            torch.save({\n",
    "                \"steps\": step_count,\n",
    "                \"model\": model.state_dict(),\n",
    "                \"dummy_model\" : dummy_model.state_dict(),\n",
    "                \"optimizer\": optimizer.state_dict(),\n",
    "                #\"scheduler\": lr_scheduler.state_dict(),\n",
    "            }, f\"{output_dir}/pretrained_model_{step_count}.pth\")\n",
    "\n",
    "\n",
    "        if (step_count % EVAL_STEP == 0):\n",
    "            model.eval()\n",
    "            dummy_model.eval()\n",
    "            \n",
    "            known_acc, unknown_acc, val_loss, val_known_loss, val_unknown_loss, delta = evaluate()\n",
    "            \n",
    "            writer.add_scalar('Accuracy/Known', known_acc, step_count)\n",
    "            writer.add_scalar('Accuracy/Unknown', unknown_acc, step_count)\n",
    "            writer.add_scalar('Loss/Val', val_loss, step_count)\n",
    "            writer.add_scalar('Loss/Val_Known', val_known_loss, step_count)\n",
    "            writer.add_scalar('Loss/Val_Unknown', val_unknown_loss, step_count)\n",
    "            writer.add_scalar('Delta/Delta', delta, step_count)\n",
    "            \n",
    "            model.train()\n",
    "            dummy_model.train()\n",
    "\n",
    "        if step_count == num_training_steps:\n",
    "            break\n",
    "\n",
    "\n",
    "torch.save({\n",
    "    \"steps\": step_count,\n",
    "    \"model\": model.state_dict(),\n",
    "    \"dummy_model\" : dummy_model.state_dict(),\n",
    "    \"optimizer\": optimizer.state_dict(),\n",
    "    #\"scheduler\": lr_scheduler.state_dict(),\n",
    "}, f\"{output_dir}/pretrained_model_{step_count}.pth\")"
   ]
  },
  {
   "cell_type": "code",
   "execution_count": null,
   "id": "ee832ed9-d3f0-40ec-8d33-5f7edc31291f",
   "metadata": {},
   "outputs": [],
   "source": []
  },
  {
   "cell_type": "code",
   "execution_count": null,
   "id": "d701d7a4-97a0-46da-8f1f-d490eb5b5c19",
   "metadata": {},
   "outputs": [],
   "source": []
  },
  {
   "cell_type": "code",
   "execution_count": null,
   "id": "f5abdee8-ac2a-4297-bf4e-53e88d7c4a3a",
   "metadata": {},
   "outputs": [],
   "source": []
  },
  {
   "cell_type": "code",
   "execution_count": 29,
   "id": "5996cadb-8eba-4b86-81f8-e0384e6702cc",
   "metadata": {},
   "outputs": [
    {
     "data": {
      "application/vnd.jupyter.widget-view+json": {
       "model_id": "3ad53e8166fa4ea888b08c037ac14ad2",
       "version_major": 2,
       "version_minor": 0
      },
      "text/plain": [
       "  0%|          | 0/843 [00:00<?, ?it/s]"
      ]
     },
     "metadata": {},
     "output_type": "display_data"
    }
   ],
   "source": [
    "Delta = 0.8\n",
    "\n",
    "known_acc = []\n",
    "unknown_acc = []\n",
    "val_loss = []\n",
    "val_known_loss = []\n",
    "val_unknown_loss = []\n",
    "\n",
    "model.eval()\n",
    "dummy_model.eval()\n",
    "\n",
    "LIKELIHOODS = []\n",
    "for batch_x, batch_y in tqdm(valid_dataloader):\n",
    "    batch_x, batch_y = batch_x.to(device), batch_y.to(device)\n",
    "\n",
    "    with torch.no_grad():\n",
    "        outputs = model(torch.unsqueeze(batch_x, 1))\n",
    "        \n",
    "        loss_known, loss_unknown = loss_fn(outputs, batch_y, N_WAY_V, N_SUPPORT_V, N_QUERY_V)\n",
    "        loss = LAMBDA * loss_known + loss_unknown\n",
    "        \n",
    "        val_loss.append(loss.item())\n",
    "        val_known_loss.append(loss_known.item())\n",
    "        val_unknown_loss.append(loss_unknown.item())\n",
    "\n",
    "        likelihood = calculate_probability(outputs, N_WAY_V, N_SUPPORT_V)\n",
    "        LIKELIHOODS.append(likelihood)\n",
    "\n",
    "        \n",
    "        known_acc.append(torch.sum(likelihood[:N_WAY_V*N_QUERY_V,1] < Delta).cpu().item() / (N_WAY_V*N_QUERY_V))\n",
    "        unknown_acc.append(torch.sum(likelihood[N_WAY_V*N_QUERY_V:,1] >= Delta).cpu().item() / (likelihood.size(0) - N_WAY_V*N_QUERY_V))\n",
    "\n",
    "known_acc = np.mean(known_acc)\n",
    "unknown_acc = np.mean(unknown_acc)\n",
    "val_loss = np.mean(val_loss)\n",
    "val_known_loss = np.mean(val_known_loss)\n",
    "val_unknown_loss = np.mean(val_unknown_loss)"
   ]
  },
  {
   "cell_type": "code",
   "execution_count": 30,
   "id": "7e87c4d9-d202-4a9e-b55e-0b48d6f6e341",
   "metadata": {},
   "outputs": [
    {
     "data": {
      "text/plain": [
       "(0.9397390272835113,\n",
       " 0.9776947410043495,\n",
       " 8.152150493747117,\n",
       " 9.940244628989259,\n",
       " 7.15812600646632)"
      ]
     },
     "execution_count": 30,
     "metadata": {},
     "output_type": "execute_result"
    }
   ],
   "source": [
    "known_acc, unknown_acc, val_loss, val_known_loss, val_unknown_loss"
   ]
  },
  {
   "cell_type": "code",
   "execution_count": null,
   "id": "4b47b575-b911-4733-8458-80df82a4dd88",
   "metadata": {},
   "outputs": [],
   "source": []
  },
  {
   "cell_type": "code",
   "execution_count": null,
   "id": "8395fdda-adc4-45c0-92ae-988d5f3967c3",
   "metadata": {},
   "outputs": [],
   "source": []
  },
  {
   "cell_type": "code",
   "execution_count": 31,
   "id": "cfe3d8cb-756a-4ca8-97fa-c1117b47b101",
   "metadata": {},
   "outputs": [
    {
     "data": {
      "text/plain": [
       "(torch.Size([25290, 2]), torch.Size([252900, 2]))"
      ]
     },
     "execution_count": 31,
     "metadata": {},
     "output_type": "execute_result"
    }
   ],
   "source": [
    "A = rearrange(torch.stack(LIKELIHOODS, axis=0)[:,:N_WAY_V*N_QUERY_V,:], \"a b c -> (a b) c\")\n",
    "B = rearrange(torch.stack(LIKELIHOODS, axis=0)[:,N_WAY_V*N_QUERY_V:,:], \"a b c -> (a b) c\")\n",
    "\n",
    "A.shape, B.shape"
   ]
  },
  {
   "cell_type": "code",
   "execution_count": 32,
   "id": "86c8b6f0-f2d4-4a71-9bbf-a5c7e9b7f1a6",
   "metadata": {},
   "outputs": [],
   "source": [
    "known_acc, un_known_acc = [], []\n",
    "for delta in np.arange(0,1,0.001):\n",
    "    known = torch.sum(A[:,1] < delta) / A.shape[0]\n",
    "    unknown = torch.sum(B[:,1] > delta) / B.shape[0]\n",
    "\n",
    "    known_acc.append(known.item())\n",
    "    un_known_acc.append(unknown.item())"
   ]
  },
  {
   "cell_type": "code",
   "execution_count": null,
   "id": "a96900d9-a4ab-4fc8-b76f-ba3b24f3b70a",
   "metadata": {},
   "outputs": [],
   "source": []
  },
  {
   "cell_type": "code",
   "execution_count": 33,
   "id": "04937e0f-12f1-497d-879a-be2320c4830f",
   "metadata": {},
   "outputs": [
    {
     "data": {
      "text/plain": [
       "(0.9665084481239319, 0.9511783123016357)"
      ]
     },
     "execution_count": 33,
     "metadata": {},
     "output_type": "execute_result"
    },
    {
     "data": {
      "image/png": "[encoded data removed]",
      "text/plain": [
       "<Figure size 640x480 with 1 Axes>"
      ]
     },
     "metadata": {},
     "output_type": "display_data"
    }
   ],
   "source": [
    "# 10-shot, 1 way, 30 query, 10 random unknown\n",
    "import matplotlib.pyplot as plt\n",
    "\n",
    "plt.plot(np.arange(0,1,0.001), known_acc)\n",
    "plt.plot(np.arange(0,1,0.001), un_known_acc)\n",
    "\n",
    "plt.xlim([0,1])\n",
    "plt.ylim([0,1])\n",
    "plt.legend([\"Known\", \"Unknown\"])\n",
    "\n",
    "known_acc[915], un_known_acc[915]"
   ]
  },
  {
   "cell_type": "code",
   "execution_count": 34,
   "id": "4cb1bad3-daef-4bdb-83a0-850b85c61f93",
   "metadata": {},
   "outputs": [
    {
     "data": {
      "text/plain": [
       "(0.872, 0.9568999409675598, 0.9656464457511902, 0.9240270269348478)"
      ]
     },
     "execution_count": 34,
     "metadata": {},
     "output_type": "execute_result"
    },
    {
     "data": {
      "image/png": "[encoded data removed]",
      "text/plain": [
       "<Figure size 640x480 with 1 Axes>"
      ]
     },
     "metadata": {},
     "output_type": "display_data"
    }
   ],
   "source": [
    "mul_prob = np.array(known_acc) * np.array(un_known_acc)\n",
    "\n",
    "plt.plot(np.arange(0,1,0.001), mul_prob)\n",
    "MAX, IDX = np.max(mul_prob), np.argmax(mul_prob)\n",
    "IDX / 1000, known_acc[IDX], un_known_acc[IDX], mul_prob[IDX]"
   ]
  },
  {
   "cell_type": "code",
   "execution_count": null,
   "id": "239611ae-a081-4bc7-a60b-4caa7bc11088",
   "metadata": {},
   "outputs": [],
   "source": []
  },
  {
   "cell_type": "code",
   "execution_count": null,
   "id": "b992ac7d-cffa-4e6f-8cd7-dcaa21fd44a1",
   "metadata": {},
   "outputs": [],
   "source": []
  },
  {
   "cell_type": "code",
   "execution_count": null,
   "id": "d14063f5-a9c8-4a77-8d6c-b496ab615524",
   "metadata": {},
   "outputs": [],
   "source": []
  },
  {
   "cell_type": "code",
   "execution_count": null,
   "id": "62ee1f4b-eccb-4d9a-8a23-b81bd7fc17a8",
   "metadata": {},
   "outputs": [],
   "source": []
  }
 ],
 "metadata": {
  "kernelspec": {
   "display_name": "Python 3 (ipykernel)",
   "language": "python",
   "name": "python3"
  },
  "language_info": {
   "codemirror_mode": {
    "name": "ipython",
    "version": 3
   },
   "file_extension": ".py",
   "mimetype": "text/x-python",
   "name": "python",
   "nbconvert_exporter": "python",
   "pygments_lexer": "ipython3",
   "version": "3.10.12"
  }
 },
 "nbformat": 4,
 "nbformat_minor": 5
}
